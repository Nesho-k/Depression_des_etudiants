{
 "cells": [
  {
   "cell_type": "markdown",
   "id": "66a29d33",
   "metadata": {},
   "source": [
    "# Dépression des étudiants"
   ]
  },
  {
   "cell_type": "markdown",
   "id": "ab322a1f",
   "metadata": {},
   "source": [
    "## Introduction "
   ]
  },
  {
   "cell_type": "markdown",
   "id": "2137c0f6",
   "metadata": {},
   "source": [
    "La dépression est un trouble psychologique qui affecte des millions de personnes dans le monde. L'analyse de données peut fournir des idées précieuses pour comprendre les facteurs qui y sont associés et améliorer le diagnostic. Ce projet vise à prédire si un étudiant va tomber en dépression ou non. Pour cela, nous allons effectuer des analyses statistiques et construire des modèles prédictifs pour identifier les individus à risque.\n",
    "\n",
    "Objectifs :\n",
    "\n",
    "- Explorer les données et identifier les facteurs corrélés à la dépression.\n",
    "- Créer et évaluer des modèles pour prédire la probabilité de dépression.\n",
    "- Tirer des conclusions exploitables pour une meilleure prévention."
   ]
  },
  {
   "cell_type": "markdown",
   "id": "3b53b21b",
   "metadata": {},
   "source": [
    "Dans un premier temps, nous allons importer les bibliothèques nécessaires ainsi que les données."
   ]
  },
  {
   "cell_type": "code",
   "execution_count": 1,
   "id": "3992712b",
   "metadata": {},
   "outputs": [],
   "source": [
    "import numpy as np \n",
    "import pandas as pd\n",
    "import seaborn as sns\n",
    "import matplotlib.pyplot as plt"
   ]
  },
  {
   "cell_type": "code",
   "execution_count": 2,
   "id": "5541c1d5",
   "metadata": {},
   "outputs": [],
   "source": [
    "data = pd.read_csv(\"C:\\\\Users\\\\Nesho\\\\Downloads\\\\Student_Depression_Dataset.csv\")"
   ]
  },
  {
   "cell_type": "code",
   "execution_count": 3,
   "id": "ab5f4324",
   "metadata": {},
   "outputs": [
    {
     "data": {
      "text/html": [
       "<div>\n",
       "<style scoped>\n",
       "    .dataframe tbody tr th:only-of-type {\n",
       "        vertical-align: middle;\n",
       "    }\n",
       "\n",
       "    .dataframe tbody tr th {\n",
       "        vertical-align: top;\n",
       "    }\n",
       "\n",
       "    .dataframe thead th {\n",
       "        text-align: right;\n",
       "    }\n",
       "</style>\n",
       "<table border=\"1\" class=\"dataframe\">\n",
       "  <thead>\n",
       "    <tr style=\"text-align: right;\">\n",
       "      <th></th>\n",
       "      <th>id</th>\n",
       "      <th>Gender</th>\n",
       "      <th>Age</th>\n",
       "      <th>City</th>\n",
       "      <th>Profession</th>\n",
       "      <th>Academic Pressure</th>\n",
       "      <th>Work Pressure</th>\n",
       "      <th>CGPA</th>\n",
       "      <th>Study Satisfaction</th>\n",
       "      <th>Job Satisfaction</th>\n",
       "      <th>Sleep Duration</th>\n",
       "      <th>Dietary Habits</th>\n",
       "      <th>Degree</th>\n",
       "      <th>Have you ever had suicidal thoughts ?</th>\n",
       "      <th>Work/Study Hours</th>\n",
       "      <th>Financial Stress</th>\n",
       "      <th>Family History of Mental Illness</th>\n",
       "      <th>Depression</th>\n",
       "    </tr>\n",
       "  </thead>\n",
       "  <tbody>\n",
       "    <tr>\n",
       "      <th>0</th>\n",
       "      <td>2</td>\n",
       "      <td>Male</td>\n",
       "      <td>33.0</td>\n",
       "      <td>Visakhapatnam</td>\n",
       "      <td>Student</td>\n",
       "      <td>5.0</td>\n",
       "      <td>0.0</td>\n",
       "      <td>8.97</td>\n",
       "      <td>2.0</td>\n",
       "      <td>0.0</td>\n",
       "      <td>5-6 hours</td>\n",
       "      <td>Healthy</td>\n",
       "      <td>B.Pharm</td>\n",
       "      <td>Yes</td>\n",
       "      <td>3.0</td>\n",
       "      <td>1.0</td>\n",
       "      <td>No</td>\n",
       "      <td>1</td>\n",
       "    </tr>\n",
       "    <tr>\n",
       "      <th>1</th>\n",
       "      <td>8</td>\n",
       "      <td>Female</td>\n",
       "      <td>24.0</td>\n",
       "      <td>Bangalore</td>\n",
       "      <td>Student</td>\n",
       "      <td>2.0</td>\n",
       "      <td>0.0</td>\n",
       "      <td>5.90</td>\n",
       "      <td>5.0</td>\n",
       "      <td>0.0</td>\n",
       "      <td>5-6 hours</td>\n",
       "      <td>Moderate</td>\n",
       "      <td>BSc</td>\n",
       "      <td>No</td>\n",
       "      <td>3.0</td>\n",
       "      <td>2.0</td>\n",
       "      <td>Yes</td>\n",
       "      <td>0</td>\n",
       "    </tr>\n",
       "    <tr>\n",
       "      <th>2</th>\n",
       "      <td>26</td>\n",
       "      <td>Male</td>\n",
       "      <td>31.0</td>\n",
       "      <td>Srinagar</td>\n",
       "      <td>Student</td>\n",
       "      <td>3.0</td>\n",
       "      <td>0.0</td>\n",
       "      <td>7.03</td>\n",
       "      <td>5.0</td>\n",
       "      <td>0.0</td>\n",
       "      <td>Less than 5 hours</td>\n",
       "      <td>Healthy</td>\n",
       "      <td>BA</td>\n",
       "      <td>No</td>\n",
       "      <td>9.0</td>\n",
       "      <td>1.0</td>\n",
       "      <td>Yes</td>\n",
       "      <td>0</td>\n",
       "    </tr>\n",
       "    <tr>\n",
       "      <th>3</th>\n",
       "      <td>30</td>\n",
       "      <td>Female</td>\n",
       "      <td>28.0</td>\n",
       "      <td>Varanasi</td>\n",
       "      <td>Student</td>\n",
       "      <td>3.0</td>\n",
       "      <td>0.0</td>\n",
       "      <td>5.59</td>\n",
       "      <td>2.0</td>\n",
       "      <td>0.0</td>\n",
       "      <td>7-8 hours</td>\n",
       "      <td>Moderate</td>\n",
       "      <td>BCA</td>\n",
       "      <td>Yes</td>\n",
       "      <td>4.0</td>\n",
       "      <td>5.0</td>\n",
       "      <td>Yes</td>\n",
       "      <td>1</td>\n",
       "    </tr>\n",
       "    <tr>\n",
       "      <th>4</th>\n",
       "      <td>32</td>\n",
       "      <td>Female</td>\n",
       "      <td>25.0</td>\n",
       "      <td>Jaipur</td>\n",
       "      <td>Student</td>\n",
       "      <td>4.0</td>\n",
       "      <td>0.0</td>\n",
       "      <td>8.13</td>\n",
       "      <td>3.0</td>\n",
       "      <td>0.0</td>\n",
       "      <td>5-6 hours</td>\n",
       "      <td>Moderate</td>\n",
       "      <td>M.Tech</td>\n",
       "      <td>Yes</td>\n",
       "      <td>1.0</td>\n",
       "      <td>1.0</td>\n",
       "      <td>No</td>\n",
       "      <td>0</td>\n",
       "    </tr>\n",
       "  </tbody>\n",
       "</table>\n",
       "</div>"
      ],
      "text/plain": [
       "   id  Gender   Age           City Profession  Academic Pressure  \\\n",
       "0   2    Male  33.0  Visakhapatnam    Student                5.0   \n",
       "1   8  Female  24.0      Bangalore    Student                2.0   \n",
       "2  26    Male  31.0       Srinagar    Student                3.0   \n",
       "3  30  Female  28.0       Varanasi    Student                3.0   \n",
       "4  32  Female  25.0         Jaipur    Student                4.0   \n",
       "\n",
       "   Work Pressure  CGPA  Study Satisfaction  Job Satisfaction  \\\n",
       "0            0.0  8.97                 2.0               0.0   \n",
       "1            0.0  5.90                 5.0               0.0   \n",
       "2            0.0  7.03                 5.0               0.0   \n",
       "3            0.0  5.59                 2.0               0.0   \n",
       "4            0.0  8.13                 3.0               0.0   \n",
       "\n",
       "      Sleep Duration Dietary Habits   Degree  \\\n",
       "0          5-6 hours        Healthy  B.Pharm   \n",
       "1          5-6 hours       Moderate      BSc   \n",
       "2  Less than 5 hours        Healthy       BA   \n",
       "3          7-8 hours       Moderate      BCA   \n",
       "4          5-6 hours       Moderate   M.Tech   \n",
       "\n",
       "  Have you ever had suicidal thoughts ?  Work/Study Hours  Financial Stress  \\\n",
       "0                                   Yes               3.0               1.0   \n",
       "1                                    No               3.0               2.0   \n",
       "2                                    No               9.0               1.0   \n",
       "3                                   Yes               4.0               5.0   \n",
       "4                                   Yes               1.0               1.0   \n",
       "\n",
       "  Family History of Mental Illness  Depression  \n",
       "0                               No           1  \n",
       "1                              Yes           0  \n",
       "2                              Yes           0  \n",
       "3                              Yes           1  \n",
       "4                               No           0  "
      ]
     },
     "execution_count": 3,
     "metadata": {},
     "output_type": "execute_result"
    }
   ],
   "source": [
    "data.head()"
   ]
  },
  {
   "cell_type": "code",
   "execution_count": 4,
   "id": "5cd9fc1c",
   "metadata": {},
   "outputs": [
    {
     "data": {
      "text/html": [
       "<div>\n",
       "<style scoped>\n",
       "    .dataframe tbody tr th:only-of-type {\n",
       "        vertical-align: middle;\n",
       "    }\n",
       "\n",
       "    .dataframe tbody tr th {\n",
       "        vertical-align: top;\n",
       "    }\n",
       "\n",
       "    .dataframe thead th {\n",
       "        text-align: right;\n",
       "    }\n",
       "</style>\n",
       "<table border=\"1\" class=\"dataframe\">\n",
       "  <thead>\n",
       "    <tr style=\"text-align: right;\">\n",
       "      <th></th>\n",
       "      <th>id</th>\n",
       "      <th>Gender</th>\n",
       "      <th>Age</th>\n",
       "      <th>City</th>\n",
       "      <th>Profession</th>\n",
       "      <th>Academic Pressure</th>\n",
       "      <th>Work Pressure</th>\n",
       "      <th>CGPA</th>\n",
       "      <th>Study Satisfaction</th>\n",
       "      <th>Job Satisfaction</th>\n",
       "      <th>Sleep Duration</th>\n",
       "      <th>Dietary Habits</th>\n",
       "      <th>Degree</th>\n",
       "      <th>Have you ever had suicidal thoughts ?</th>\n",
       "      <th>Work/Study Hours</th>\n",
       "      <th>Financial Stress</th>\n",
       "      <th>Family History of Mental Illness</th>\n",
       "      <th>Depression</th>\n",
       "    </tr>\n",
       "  </thead>\n",
       "  <tbody>\n",
       "    <tr>\n",
       "      <th>count</th>\n",
       "      <td>27901.000000</td>\n",
       "      <td>27901</td>\n",
       "      <td>27901.000000</td>\n",
       "      <td>27901</td>\n",
       "      <td>27901</td>\n",
       "      <td>27901.000000</td>\n",
       "      <td>27901.000000</td>\n",
       "      <td>27901.000000</td>\n",
       "      <td>27901.000000</td>\n",
       "      <td>27901.000000</td>\n",
       "      <td>27901</td>\n",
       "      <td>27901</td>\n",
       "      <td>27901</td>\n",
       "      <td>27901</td>\n",
       "      <td>27901.000000</td>\n",
       "      <td>27898.000000</td>\n",
       "      <td>27901</td>\n",
       "      <td>27901.000000</td>\n",
       "    </tr>\n",
       "    <tr>\n",
       "      <th>unique</th>\n",
       "      <td>NaN</td>\n",
       "      <td>2</td>\n",
       "      <td>NaN</td>\n",
       "      <td>52</td>\n",
       "      <td>14</td>\n",
       "      <td>NaN</td>\n",
       "      <td>NaN</td>\n",
       "      <td>NaN</td>\n",
       "      <td>NaN</td>\n",
       "      <td>NaN</td>\n",
       "      <td>5</td>\n",
       "      <td>4</td>\n",
       "      <td>28</td>\n",
       "      <td>2</td>\n",
       "      <td>NaN</td>\n",
       "      <td>NaN</td>\n",
       "      <td>2</td>\n",
       "      <td>NaN</td>\n",
       "    </tr>\n",
       "    <tr>\n",
       "      <th>top</th>\n",
       "      <td>NaN</td>\n",
       "      <td>Male</td>\n",
       "      <td>NaN</td>\n",
       "      <td>Kalyan</td>\n",
       "      <td>Student</td>\n",
       "      <td>NaN</td>\n",
       "      <td>NaN</td>\n",
       "      <td>NaN</td>\n",
       "      <td>NaN</td>\n",
       "      <td>NaN</td>\n",
       "      <td>Less than 5 hours</td>\n",
       "      <td>Unhealthy</td>\n",
       "      <td>Class 12</td>\n",
       "      <td>Yes</td>\n",
       "      <td>NaN</td>\n",
       "      <td>NaN</td>\n",
       "      <td>No</td>\n",
       "      <td>NaN</td>\n",
       "    </tr>\n",
       "    <tr>\n",
       "      <th>freq</th>\n",
       "      <td>NaN</td>\n",
       "      <td>15547</td>\n",
       "      <td>NaN</td>\n",
       "      <td>1570</td>\n",
       "      <td>27870</td>\n",
       "      <td>NaN</td>\n",
       "      <td>NaN</td>\n",
       "      <td>NaN</td>\n",
       "      <td>NaN</td>\n",
       "      <td>NaN</td>\n",
       "      <td>8310</td>\n",
       "      <td>10317</td>\n",
       "      <td>6080</td>\n",
       "      <td>17656</td>\n",
       "      <td>NaN</td>\n",
       "      <td>NaN</td>\n",
       "      <td>14398</td>\n",
       "      <td>NaN</td>\n",
       "    </tr>\n",
       "    <tr>\n",
       "      <th>mean</th>\n",
       "      <td>70442.149421</td>\n",
       "      <td>NaN</td>\n",
       "      <td>25.822300</td>\n",
       "      <td>NaN</td>\n",
       "      <td>NaN</td>\n",
       "      <td>3.141214</td>\n",
       "      <td>0.000430</td>\n",
       "      <td>7.656104</td>\n",
       "      <td>2.943837</td>\n",
       "      <td>0.000681</td>\n",
       "      <td>NaN</td>\n",
       "      <td>NaN</td>\n",
       "      <td>NaN</td>\n",
       "      <td>NaN</td>\n",
       "      <td>7.156984</td>\n",
       "      <td>3.139867</td>\n",
       "      <td>NaN</td>\n",
       "      <td>0.585499</td>\n",
       "    </tr>\n",
       "    <tr>\n",
       "      <th>std</th>\n",
       "      <td>40641.175216</td>\n",
       "      <td>NaN</td>\n",
       "      <td>4.905687</td>\n",
       "      <td>NaN</td>\n",
       "      <td>NaN</td>\n",
       "      <td>1.381465</td>\n",
       "      <td>0.043992</td>\n",
       "      <td>1.470707</td>\n",
       "      <td>1.361148</td>\n",
       "      <td>0.044394</td>\n",
       "      <td>NaN</td>\n",
       "      <td>NaN</td>\n",
       "      <td>NaN</td>\n",
       "      <td>NaN</td>\n",
       "      <td>3.707642</td>\n",
       "      <td>1.437347</td>\n",
       "      <td>NaN</td>\n",
       "      <td>0.492645</td>\n",
       "    </tr>\n",
       "    <tr>\n",
       "      <th>min</th>\n",
       "      <td>2.000000</td>\n",
       "      <td>NaN</td>\n",
       "      <td>18.000000</td>\n",
       "      <td>NaN</td>\n",
       "      <td>NaN</td>\n",
       "      <td>0.000000</td>\n",
       "      <td>0.000000</td>\n",
       "      <td>0.000000</td>\n",
       "      <td>0.000000</td>\n",
       "      <td>0.000000</td>\n",
       "      <td>NaN</td>\n",
       "      <td>NaN</td>\n",
       "      <td>NaN</td>\n",
       "      <td>NaN</td>\n",
       "      <td>0.000000</td>\n",
       "      <td>1.000000</td>\n",
       "      <td>NaN</td>\n",
       "      <td>0.000000</td>\n",
       "    </tr>\n",
       "    <tr>\n",
       "      <th>25%</th>\n",
       "      <td>35039.000000</td>\n",
       "      <td>NaN</td>\n",
       "      <td>21.000000</td>\n",
       "      <td>NaN</td>\n",
       "      <td>NaN</td>\n",
       "      <td>2.000000</td>\n",
       "      <td>0.000000</td>\n",
       "      <td>6.290000</td>\n",
       "      <td>2.000000</td>\n",
       "      <td>0.000000</td>\n",
       "      <td>NaN</td>\n",
       "      <td>NaN</td>\n",
       "      <td>NaN</td>\n",
       "      <td>NaN</td>\n",
       "      <td>4.000000</td>\n",
       "      <td>2.000000</td>\n",
       "      <td>NaN</td>\n",
       "      <td>0.000000</td>\n",
       "    </tr>\n",
       "    <tr>\n",
       "      <th>50%</th>\n",
       "      <td>70684.000000</td>\n",
       "      <td>NaN</td>\n",
       "      <td>25.000000</td>\n",
       "      <td>NaN</td>\n",
       "      <td>NaN</td>\n",
       "      <td>3.000000</td>\n",
       "      <td>0.000000</td>\n",
       "      <td>7.770000</td>\n",
       "      <td>3.000000</td>\n",
       "      <td>0.000000</td>\n",
       "      <td>NaN</td>\n",
       "      <td>NaN</td>\n",
       "      <td>NaN</td>\n",
       "      <td>NaN</td>\n",
       "      <td>8.000000</td>\n",
       "      <td>3.000000</td>\n",
       "      <td>NaN</td>\n",
       "      <td>1.000000</td>\n",
       "    </tr>\n",
       "    <tr>\n",
       "      <th>75%</th>\n",
       "      <td>105818.000000</td>\n",
       "      <td>NaN</td>\n",
       "      <td>30.000000</td>\n",
       "      <td>NaN</td>\n",
       "      <td>NaN</td>\n",
       "      <td>4.000000</td>\n",
       "      <td>0.000000</td>\n",
       "      <td>8.920000</td>\n",
       "      <td>4.000000</td>\n",
       "      <td>0.000000</td>\n",
       "      <td>NaN</td>\n",
       "      <td>NaN</td>\n",
       "      <td>NaN</td>\n",
       "      <td>NaN</td>\n",
       "      <td>10.000000</td>\n",
       "      <td>4.000000</td>\n",
       "      <td>NaN</td>\n",
       "      <td>1.000000</td>\n",
       "    </tr>\n",
       "    <tr>\n",
       "      <th>max</th>\n",
       "      <td>140699.000000</td>\n",
       "      <td>NaN</td>\n",
       "      <td>59.000000</td>\n",
       "      <td>NaN</td>\n",
       "      <td>NaN</td>\n",
       "      <td>5.000000</td>\n",
       "      <td>5.000000</td>\n",
       "      <td>10.000000</td>\n",
       "      <td>5.000000</td>\n",
       "      <td>4.000000</td>\n",
       "      <td>NaN</td>\n",
       "      <td>NaN</td>\n",
       "      <td>NaN</td>\n",
       "      <td>NaN</td>\n",
       "      <td>12.000000</td>\n",
       "      <td>5.000000</td>\n",
       "      <td>NaN</td>\n",
       "      <td>1.000000</td>\n",
       "    </tr>\n",
       "  </tbody>\n",
       "</table>\n",
       "</div>"
      ],
      "text/plain": [
       "                   id Gender           Age    City Profession  \\\n",
       "count    27901.000000  27901  27901.000000   27901      27901   \n",
       "unique            NaN      2           NaN      52         14   \n",
       "top               NaN   Male           NaN  Kalyan    Student   \n",
       "freq              NaN  15547           NaN    1570      27870   \n",
       "mean     70442.149421    NaN     25.822300     NaN        NaN   \n",
       "std      40641.175216    NaN      4.905687     NaN        NaN   \n",
       "min          2.000000    NaN     18.000000     NaN        NaN   \n",
       "25%      35039.000000    NaN     21.000000     NaN        NaN   \n",
       "50%      70684.000000    NaN     25.000000     NaN        NaN   \n",
       "75%     105818.000000    NaN     30.000000     NaN        NaN   \n",
       "max     140699.000000    NaN     59.000000     NaN        NaN   \n",
       "\n",
       "        Academic Pressure  Work Pressure          CGPA  Study Satisfaction  \\\n",
       "count        27901.000000   27901.000000  27901.000000        27901.000000   \n",
       "unique                NaN            NaN           NaN                 NaN   \n",
       "top                   NaN            NaN           NaN                 NaN   \n",
       "freq                  NaN            NaN           NaN                 NaN   \n",
       "mean             3.141214       0.000430      7.656104            2.943837   \n",
       "std              1.381465       0.043992      1.470707            1.361148   \n",
       "min              0.000000       0.000000      0.000000            0.000000   \n",
       "25%              2.000000       0.000000      6.290000            2.000000   \n",
       "50%              3.000000       0.000000      7.770000            3.000000   \n",
       "75%              4.000000       0.000000      8.920000            4.000000   \n",
       "max              5.000000       5.000000     10.000000            5.000000   \n",
       "\n",
       "        Job Satisfaction     Sleep Duration Dietary Habits    Degree  \\\n",
       "count       27901.000000              27901          27901     27901   \n",
       "unique               NaN                  5              4        28   \n",
       "top                  NaN  Less than 5 hours      Unhealthy  Class 12   \n",
       "freq                 NaN               8310          10317      6080   \n",
       "mean            0.000681                NaN            NaN       NaN   \n",
       "std             0.044394                NaN            NaN       NaN   \n",
       "min             0.000000                NaN            NaN       NaN   \n",
       "25%             0.000000                NaN            NaN       NaN   \n",
       "50%             0.000000                NaN            NaN       NaN   \n",
       "75%             0.000000                NaN            NaN       NaN   \n",
       "max             4.000000                NaN            NaN       NaN   \n",
       "\n",
       "       Have you ever had suicidal thoughts ?  Work/Study Hours  \\\n",
       "count                                  27901      27901.000000   \n",
       "unique                                     2               NaN   \n",
       "top                                      Yes               NaN   \n",
       "freq                                   17656               NaN   \n",
       "mean                                     NaN          7.156984   \n",
       "std                                      NaN          3.707642   \n",
       "min                                      NaN          0.000000   \n",
       "25%                                      NaN          4.000000   \n",
       "50%                                      NaN          8.000000   \n",
       "75%                                      NaN         10.000000   \n",
       "max                                      NaN         12.000000   \n",
       "\n",
       "        Financial Stress Family History of Mental Illness    Depression  \n",
       "count       27898.000000                            27901  27901.000000  \n",
       "unique               NaN                                2           NaN  \n",
       "top                  NaN                               No           NaN  \n",
       "freq                 NaN                            14398           NaN  \n",
       "mean            3.139867                              NaN      0.585499  \n",
       "std             1.437347                              NaN      0.492645  \n",
       "min             1.000000                              NaN      0.000000  \n",
       "25%             2.000000                              NaN      0.000000  \n",
       "50%             3.000000                              NaN      1.000000  \n",
       "75%             4.000000                              NaN      1.000000  \n",
       "max             5.000000                              NaN      1.000000  "
      ]
     },
     "execution_count": 4,
     "metadata": {},
     "output_type": "execute_result"
    }
   ],
   "source": [
    "data.describe(include=\"all\")"
   ]
  },
  {
   "cell_type": "markdown",
   "id": "a6fc2d32",
   "metadata": {},
   "source": [
    "Certaines variables comme \"Work pressure\" et \"Job Satisfaction\" possèdent très peu de données ce qui est normal car le but est de déterminer si un étudiant est en dépression ou non, et non pas de déterminer si un employé est en dépression. Donc nous n'allons pas les utiliser par la suite.\n",
    "\n",
    "On remarque aussi que l'âge moyen des étudiants est de 25 ans environ et que 75% d'entre eux ont moins de 30 ans. Ainsi, la majorité des personnes sont plutôt \"jeunes\"."
   ]
  },
  {
   "cell_type": "markdown",
   "id": "446df8e3",
   "metadata": {},
   "source": [
    "Nous allons également renommer les colonnes pour plus de lisibilités."
   ]
  },
  {
   "cell_type": "code",
   "execution_count": 5,
   "id": "b53335e5",
   "metadata": {},
   "outputs": [],
   "source": [
    "data.columns = [\"id\", \"Sexe\", \"Age\", \"Ville\", \"Profession\", \"Pression_Académique\", \"Pression_au_travail\", \"Note_a_l'école\", \n",
    "               \"Satisfaction_étude\", \"Satisfaction_travail\", \"Temps_de_sommeil\", \"Habitudes_alimentaires\", \"Diplome\", \"Sucidaire?\",\n",
    "               \"Heures_de_travail\", \"Stress_financier\", \"Prblml_mentaux_famille\", \"Dépression\"]"
   ]
  },
  {
   "cell_type": "code",
   "execution_count": 6,
   "id": "f7f6d3bc",
   "metadata": {},
   "outputs": [
    {
     "data": {
      "text/html": [
       "<div>\n",
       "<style scoped>\n",
       "    .dataframe tbody tr th:only-of-type {\n",
       "        vertical-align: middle;\n",
       "    }\n",
       "\n",
       "    .dataframe tbody tr th {\n",
       "        vertical-align: top;\n",
       "    }\n",
       "\n",
       "    .dataframe thead th {\n",
       "        text-align: right;\n",
       "    }\n",
       "</style>\n",
       "<table border=\"1\" class=\"dataframe\">\n",
       "  <thead>\n",
       "    <tr style=\"text-align: right;\">\n",
       "      <th></th>\n",
       "      <th>id</th>\n",
       "      <th>Sexe</th>\n",
       "      <th>Age</th>\n",
       "      <th>Ville</th>\n",
       "      <th>Profession</th>\n",
       "      <th>Pression_Académique</th>\n",
       "      <th>Pression_au_travail</th>\n",
       "      <th>Note_a_l'école</th>\n",
       "      <th>Satisfaction_étude</th>\n",
       "      <th>Satisfaction_travail</th>\n",
       "      <th>Temps_de_sommeil</th>\n",
       "      <th>Habitudes_alimentaires</th>\n",
       "      <th>Diplome</th>\n",
       "      <th>Sucidaire?</th>\n",
       "      <th>Heures_de_travail</th>\n",
       "      <th>Stress_financier</th>\n",
       "      <th>Prblml_mentaux_famille</th>\n",
       "      <th>Dépression</th>\n",
       "    </tr>\n",
       "  </thead>\n",
       "  <tbody>\n",
       "    <tr>\n",
       "      <th>0</th>\n",
       "      <td>2</td>\n",
       "      <td>Male</td>\n",
       "      <td>33.0</td>\n",
       "      <td>Visakhapatnam</td>\n",
       "      <td>Student</td>\n",
       "      <td>5.0</td>\n",
       "      <td>0.0</td>\n",
       "      <td>8.97</td>\n",
       "      <td>2.0</td>\n",
       "      <td>0.0</td>\n",
       "      <td>5-6 hours</td>\n",
       "      <td>Healthy</td>\n",
       "      <td>B.Pharm</td>\n",
       "      <td>Yes</td>\n",
       "      <td>3.0</td>\n",
       "      <td>1.0</td>\n",
       "      <td>No</td>\n",
       "      <td>1</td>\n",
       "    </tr>\n",
       "    <tr>\n",
       "      <th>1</th>\n",
       "      <td>8</td>\n",
       "      <td>Female</td>\n",
       "      <td>24.0</td>\n",
       "      <td>Bangalore</td>\n",
       "      <td>Student</td>\n",
       "      <td>2.0</td>\n",
       "      <td>0.0</td>\n",
       "      <td>5.90</td>\n",
       "      <td>5.0</td>\n",
       "      <td>0.0</td>\n",
       "      <td>5-6 hours</td>\n",
       "      <td>Moderate</td>\n",
       "      <td>BSc</td>\n",
       "      <td>No</td>\n",
       "      <td>3.0</td>\n",
       "      <td>2.0</td>\n",
       "      <td>Yes</td>\n",
       "      <td>0</td>\n",
       "    </tr>\n",
       "    <tr>\n",
       "      <th>2</th>\n",
       "      <td>26</td>\n",
       "      <td>Male</td>\n",
       "      <td>31.0</td>\n",
       "      <td>Srinagar</td>\n",
       "      <td>Student</td>\n",
       "      <td>3.0</td>\n",
       "      <td>0.0</td>\n",
       "      <td>7.03</td>\n",
       "      <td>5.0</td>\n",
       "      <td>0.0</td>\n",
       "      <td>Less than 5 hours</td>\n",
       "      <td>Healthy</td>\n",
       "      <td>BA</td>\n",
       "      <td>No</td>\n",
       "      <td>9.0</td>\n",
       "      <td>1.0</td>\n",
       "      <td>Yes</td>\n",
       "      <td>0</td>\n",
       "    </tr>\n",
       "    <tr>\n",
       "      <th>3</th>\n",
       "      <td>30</td>\n",
       "      <td>Female</td>\n",
       "      <td>28.0</td>\n",
       "      <td>Varanasi</td>\n",
       "      <td>Student</td>\n",
       "      <td>3.0</td>\n",
       "      <td>0.0</td>\n",
       "      <td>5.59</td>\n",
       "      <td>2.0</td>\n",
       "      <td>0.0</td>\n",
       "      <td>7-8 hours</td>\n",
       "      <td>Moderate</td>\n",
       "      <td>BCA</td>\n",
       "      <td>Yes</td>\n",
       "      <td>4.0</td>\n",
       "      <td>5.0</td>\n",
       "      <td>Yes</td>\n",
       "      <td>1</td>\n",
       "    </tr>\n",
       "    <tr>\n",
       "      <th>4</th>\n",
       "      <td>32</td>\n",
       "      <td>Female</td>\n",
       "      <td>25.0</td>\n",
       "      <td>Jaipur</td>\n",
       "      <td>Student</td>\n",
       "      <td>4.0</td>\n",
       "      <td>0.0</td>\n",
       "      <td>8.13</td>\n",
       "      <td>3.0</td>\n",
       "      <td>0.0</td>\n",
       "      <td>5-6 hours</td>\n",
       "      <td>Moderate</td>\n",
       "      <td>M.Tech</td>\n",
       "      <td>Yes</td>\n",
       "      <td>1.0</td>\n",
       "      <td>1.0</td>\n",
       "      <td>No</td>\n",
       "      <td>0</td>\n",
       "    </tr>\n",
       "  </tbody>\n",
       "</table>\n",
       "</div>"
      ],
      "text/plain": [
       "   id    Sexe   Age          Ville Profession  Pression_Académique  \\\n",
       "0   2    Male  33.0  Visakhapatnam    Student                  5.0   \n",
       "1   8  Female  24.0      Bangalore    Student                  2.0   \n",
       "2  26    Male  31.0       Srinagar    Student                  3.0   \n",
       "3  30  Female  28.0       Varanasi    Student                  3.0   \n",
       "4  32  Female  25.0         Jaipur    Student                  4.0   \n",
       "\n",
       "   Pression_au_travail  Note_a_l'école  Satisfaction_étude  \\\n",
       "0                  0.0            8.97                 2.0   \n",
       "1                  0.0            5.90                 5.0   \n",
       "2                  0.0            7.03                 5.0   \n",
       "3                  0.0            5.59                 2.0   \n",
       "4                  0.0            8.13                 3.0   \n",
       "\n",
       "   Satisfaction_travail   Temps_de_sommeil Habitudes_alimentaires  Diplome  \\\n",
       "0                   0.0          5-6 hours                Healthy  B.Pharm   \n",
       "1                   0.0          5-6 hours               Moderate      BSc   \n",
       "2                   0.0  Less than 5 hours                Healthy       BA   \n",
       "3                   0.0          7-8 hours               Moderate      BCA   \n",
       "4                   0.0          5-6 hours               Moderate   M.Tech   \n",
       "\n",
       "  Sucidaire?  Heures_de_travail  Stress_financier Prblml_mentaux_famille  \\\n",
       "0        Yes                3.0               1.0                     No   \n",
       "1         No                3.0               2.0                    Yes   \n",
       "2         No                9.0               1.0                    Yes   \n",
       "3        Yes                4.0               5.0                    Yes   \n",
       "4        Yes                1.0               1.0                     No   \n",
       "\n",
       "   Dépression  \n",
       "0           1  \n",
       "1           0  \n",
       "2           0  \n",
       "3           1  \n",
       "4           0  "
      ]
     },
     "execution_count": 6,
     "metadata": {},
     "output_type": "execute_result"
    }
   ],
   "source": [
    "data.head()"
   ]
  },
  {
   "cell_type": "code",
   "execution_count": 7,
   "id": "963c20e6",
   "metadata": {},
   "outputs": [
    {
     "data": {
      "text/plain": [
       "id                        0\n",
       "Sexe                      0\n",
       "Age                       0\n",
       "Ville                     0\n",
       "Profession                0\n",
       "Pression_Académique       0\n",
       "Pression_au_travail       0\n",
       "Note_a_l'école            0\n",
       "Satisfaction_étude        0\n",
       "Satisfaction_travail      0\n",
       "Temps_de_sommeil          0\n",
       "Habitudes_alimentaires    0\n",
       "Diplome                   0\n",
       "Sucidaire?                0\n",
       "Heures_de_travail         0\n",
       "Stress_financier          3\n",
       "Prblml_mentaux_famille    0\n",
       "Dépression                0\n",
       "dtype: int64"
      ]
     },
     "execution_count": 7,
     "metadata": {},
     "output_type": "execute_result"
    }
   ],
   "source": [
    "data.isnull().sum()"
   ]
  },
  {
   "cell_type": "markdown",
   "id": "0724c460",
   "metadata": {},
   "source": [
    "Nous remarquons qu'il y a 3 valeurs manquantes dans la variable \"Stress_financier\", mais vu qu'il y a plus de 27 000 observations, nous décidons de ne pas les traiter et de les laisser telles qu'elles."
   ]
  },
  {
   "cell_type": "code",
   "execution_count": 8,
   "id": "f97eb844",
   "metadata": {},
   "outputs": [
    {
     "data": {
      "text/plain": [
       "id                          int64\n",
       "Sexe                       object\n",
       "Age                       float64\n",
       "Ville                      object\n",
       "Profession                 object\n",
       "Pression_Académique       float64\n",
       "Pression_au_travail       float64\n",
       "Note_a_l'école            float64\n",
       "Satisfaction_étude        float64\n",
       "Satisfaction_travail      float64\n",
       "Temps_de_sommeil           object\n",
       "Habitudes_alimentaires     object\n",
       "Diplome                    object\n",
       "Sucidaire?                 object\n",
       "Heures_de_travail         float64\n",
       "Stress_financier          float64\n",
       "Prblml_mentaux_famille     object\n",
       "Dépression                  int64\n",
       "dtype: object"
      ]
     },
     "execution_count": 8,
     "metadata": {},
     "output_type": "execute_result"
    }
   ],
   "source": [
    "data.dtypes"
   ]
  },
  {
   "cell_type": "markdown",
   "id": "6663b378",
   "metadata": {},
   "source": [
    "Nous séparons les variables catégorielles et les variables numériques en deux."
   ]
  },
  {
   "cell_type": "code",
   "execution_count": 9,
   "id": "cf3ab77c",
   "metadata": {},
   "outputs": [],
   "source": [
    "cat_var = [\"Sexe\", \"Ville\", \"Profession\", \"Pression_Académique\",  \n",
    "               \"Satisfaction_étude\",  \"Habitudes_alimentaires\", \"Diplome\", \"Sucidaire?\",\n",
    "           \"Stress_financier\", \"Prblml_mentaux_famille\", \"Dépression\"]"
   ]
  },
  {
   "cell_type": "markdown",
   "id": "7a5e22bd",
   "metadata": {},
   "source": [
    "Nous effectuons un bar plot pour analyser la répartition des variables catégorielles. Le but est d'avoir une représentation de la répartition de nos données. "
   ]
  },
  {
   "cell_type": "code",
   "execution_count": 10,
   "id": "1dee9d8e",
   "metadata": {},
   "outputs": [
    {
     "data": {
      "image/png": "[encoded data removed]",
      "text/plain": [
       "<Figure size 432x288 with 1 Axes>"
      ]
     },
     "metadata": {
      "needs_background": "light"
     },
     "output_type": "display_data"
    },
    {
     "data": {
      "image/png": "[encoded data removed]",
      "text/plain": [
       "<Figure size 432x288 with 1 Axes>"
      ]
     },
     "metadata": {
      "needs_background": "light"
     },
     "output_type": "display_data"
    },
    {
     "data": {
      "image/png": "[encoded data removed]",
      "text/plain": [
       "<Figure size 432x288 with 1 Axes>"
      ]
     },
     "metadata": {
      "needs_background": "light"
     },
     "output_type": "display_data"
    },
    {
     "data": {
      "image/png": "[encoded data removed]",
      "text/plain": [
       "<Figure size 432x288 with 1 Axes>"
      ]
     },
     "metadata": {
      "needs_background": "light"
     },
     "output_type": "display_data"
    },
    {
     "data": {
      "image/png": "[encoded data removed]",
      "text/plain": [
       "<Figure size 432x288 with 1 Axes>"
      ]
     },
     "metadata": {
      "needs_background": "light"
     },
     "output_type": "display_data"
    },
    {
     "data": {
      "image/png": "[encoded data removed]",
      "text/plain": [
       "<Figure size 432x288 with 1 Axes>"
      ]
     },
     "metadata": {
      "needs_background": "light"
     },
     "output_type": "display_data"
    },
    {
     "data": {
      "image/png": "[encoded data removed]",
      "text/plain": [
       "<Figure size 432x288 with 1 Axes>"
      ]
     },
     "metadata": {
      "needs_background": "light"
     },
     "output_type": "display_data"
    },
    {
     "data": {
      "image/png": "[encoded data removed]",
      "text/plain": [
       "<Figure size 432x288 with 1 Axes>"
      ]
     },
     "metadata": {
      "needs_background": "light"
     },
     "output_type": "display_data"
    },
    {
     "data": {
      "image/png": "[encoded data removed]",
      "text/plain": [
       "<Figure size 432x288 with 1 Axes>"
      ]
     },
     "metadata": {
      "needs_background": "light"
     },
     "output_type": "display_data"
    },
    {
     "data": {
      "image/png": "[encoded data removed]",
      "text/plain": [
       "<Figure size 432x288 with 1 Axes>"
      ]
     },
     "metadata": {
      "needs_background": "light"
     },
     "output_type": "display_data"
    },
    {
     "data": {
      "image/png": "[encoded data removed]",
      "text/plain": [
       "<Figure size 432x288 with 1 Axes>"
      ]
     },
     "metadata": {
      "needs_background": "light"
     },
     "output_type": "display_data"
    }
   ],
   "source": [
    "for var in cat_var:\n",
    "    data[var].value_counts().plot(kind='bar')\n",
    "    plt.title(var)\n",
    "    plt.legend()\n",
    "    plt.xlabel('Modalités')\n",
    "    plt.ylabel('Fréquence')\n",
    "    plt.show()"
   ]
  },
  {
   "cell_type": "code",
   "execution_count": 11,
   "id": "7f1fdc5c",
   "metadata": {},
   "outputs": [],
   "source": [
    "num_var = [\"Age\", \"Note_a_l'école\", \"Heures_de_travail\"]"
   ]
  },
  {
   "cell_type": "markdown",
   "id": "2fc86831",
   "metadata": {},
   "source": [
    "Nous effectuons ensuite un boxplot pour cette fois ci analyser les variables quantitatives."
   ]
  },
  {
   "cell_type": "code",
   "execution_count": 12,
   "id": "5ce9eac9",
   "metadata": {},
   "outputs": [
    {
     "data": {
      "image/png": "[encoded data removed]",
      "text/plain": [
       "<Figure size 432x288 with 1 Axes>"
      ]
     },
     "metadata": {
      "needs_background": "light"
     },
     "output_type": "display_data"
    },
    {
     "data": {
      "image/png": "[encoded data removed]",
      "text/plain": [
       "<Figure size 432x288 with 1 Axes>"
      ]
     },
     "metadata": {
      "needs_background": "light"
     },
     "output_type": "display_data"
    },
    {
     "data": {
      "image/png": "[encoded data removed]",
      "text/plain": [
       "<Figure size 432x288 with 1 Axes>"
      ]
     },
     "metadata": {
      "needs_background": "light"
     },
     "output_type": "display_data"
    }
   ],
   "source": [
    "for var in num_var:\n",
    "    data[var].plot(kind='box')\n",
    "    plt.title(var)\n",
    "    plt.xlabel('Modalités')\n",
    "    plt.ylabel('Fréquence')\n",
    "    plt.show()"
   ]
  },
  {
   "cell_type": "markdown",
   "id": "29e1a1a1",
   "metadata": {},
   "source": [
    "Pour chaque variable qualitative, nous examinons le pourcentage de personnes en dépression et de perosnnes qui ne sont pas en dépression."
   ]
  },
  {
   "cell_type": "code",
   "execution_count": 13,
   "id": "9767e504",
   "metadata": {
    "scrolled": true
   },
   "outputs": [
    {
     "data": {
      "image/png": "[encoded data removed]",
      "text/plain": [
       "<Figure size 432x288 with 1 Axes>"
      ]
     },
     "metadata": {
      "needs_background": "light"
     },
     "output_type": "display_data"
    },
    {
     "data": {
      "image/png": "[encoded data removed]",
      "text/plain": [
       "<Figure size 432x288 with 1 Axes>"
      ]
     },
     "metadata": {
      "needs_background": "light"
     },
     "output_type": "display_data"
    },
    {
     "data": {
      "image/png": "[encoded data removed]",
      "text/plain": [
       "<Figure size 432x288 with 1 Axes>"
      ]
     },
     "metadata": {
      "needs_background": "light"
     },
     "output_type": "display_data"
    },
    {
     "data": {
      "image/png": "[encoded data removed]",
      "text/plain": [
       "<Figure size 432x288 with 1 Axes>"
      ]
     },
     "metadata": {
      "needs_background": "light"
     },
     "output_type": "display_data"
    },
    {
     "data": {
      "image/png": "[encoded data removed]",
      "text/plain": [
       "<Figure size 432x288 with 1 Axes>"
      ]
     },
     "metadata": {
      "needs_background": "light"
     },
     "output_type": "display_data"
    },
    {
     "data": {
      "image/png": "[encoded data removed]",
      "text/plain": [
       "<Figure size 432x288 with 1 Axes>"
      ]
     },
     "metadata": {
      "needs_background": "light"
     },
     "output_type": "display_data"
    },
    {
     "data": {
      "image/png": "[encoded data removed]",
      "text/plain": [
       "<Figure size 432x288 with 1 Axes>"
      ]
     },
     "metadata": {
      "needs_background": "light"
     },
     "output_type": "display_data"
    },
    {
     "data": {
      "image/png": "[encoded data removed]",
      "text/plain": [
       "<Figure size 432x288 with 1 Axes>"
      ]
     },
     "metadata": {
      "needs_background": "light"
     },
     "output_type": "display_data"
    },
    {
     "data": {
      "image/png": "[encoded data removed]",
      "text/plain": [
       "<Figure size 432x288 with 1 Axes>"
      ]
     },
     "metadata": {
      "needs_background": "light"
     },
     "output_type": "display_data"
    }
   ],
   "source": [
    "import seaborn as sns\n",
    "# Sélectionner les variables catégorielles\n",
    "cat_vars = [\"Sexe\", \"Ville\", \"Pression_Académique\", \n",
    "               \"Satisfaction_étude\", \"Habitudes_alimentaires\", \"Diplome\", \"Sucidaire?\",\n",
    "           \"Stress_financier\", \"Prblml_mentaux_famille\"]\n",
    "\n",
    "# Générer un count plot pour chaque variable catégorielle\n",
    "# Définir la taille des figures\n",
    "\n",
    "\n",
    "\n",
    "\n",
    "# Générer un bar plot pour chaque variable catégorielle\n",
    "for var in cat_vars:\n",
    "    figsize = (20, 20)\n",
    "    #pour chaque modélité de chaque variable on calcule la fréquence de la variables Dépression\n",
    "    (data.groupby([var, \"Dépression\"])['Dépression'].count()/data.groupby([var])[var].count()).unstack(level=1).plot(kind='bar', stacked=True)\n",
    "    plt.title(var)\n",
    "    plt.xlabel('Modalités')\n",
    "    plt.ylabel('Proportion (%)')\n",
    "    plt.legend(['Pas Dépression', 'Dépression']) #Attention si on met Dépression en premier ça fausse tous nos résultats, en général ça commence toujours par 0 puis 1\n",
    "    plt.show()"
   ]
  },
  {
   "cell_type": "markdown",
   "id": "ce109d71",
   "metadata": {},
   "source": [
    "On remarque que pour les variables \"Prblml_mentaux_famille\", \"diplôme\" et \"sexe\", il n'y a pas réellement de différence significative entre dépression et non dépression. En revanche, il y a une différence pour les autres variables. "
   ]
  },
  {
   "cell_type": "markdown",
   "id": "b28136a2",
   "metadata": {},
   "source": [
    "Nous effectuons ensuite un test du chi 2 puisque jusqu'à maintenant on avait juste une idée des variables qui pourraient être significatives dans la prédiction de la dépression, mais nous n'avions pas de preuves. Le test du chi 2 va quant à lui nous fournir ces preuves. "
   ]
  },
  {
   "cell_type": "code",
   "execution_count": 14,
   "id": "ae656e06",
   "metadata": {},
   "outputs": [
    {
     "name": "stdout",
     "output_type": "stream",
     "text": [
      "                 Variable         Chi2       P-valeur\n",
      "6              Sucidaire?  8323.866373   0.000000e+00\n",
      "2     Pression_Académique  6427.249219   0.000000e+00\n",
      "7        Stress_financier  3702.388501   0.000000e+00\n",
      "4  Habitudes_alimentaires  1202.638176  1.962485e-260\n",
      "3      Satisfaction_étude   793.872438  2.448361e-169\n",
      "5                 Diplome   531.355688   5.125450e-95\n",
      "1                   Ville   187.935629   1.471828e-17\n",
      "8  Prblml_mentaux_famille    79.434429   4.984981e-19\n",
      "0                    Sexe     0.082658   7.737273e-01\n"
     ]
    }
   ],
   "source": [
    "from scipy.stats import chi2_contingency\n",
    "\n",
    "cat_vars = [\"Sexe\", \"Ville\", \"Pression_Académique\", \n",
    "               \"Satisfaction_étude\", \"Habitudes_alimentaires\", \"Diplome\", \"Sucidaire?\",\n",
    "           \"Stress_financier\", \"Prblml_mentaux_famille\"]\n",
    "\n",
    "# Initialiser les listes pour stocker les résultats\n",
    "var_names = []\n",
    "chi2_stats = []\n",
    "p_values = []\n",
    "\n",
    "# Parcourir toutes les variables catégorielles\n",
    "for var in cat_vars:\n",
    "    # Calculer le tableau de contingence\n",
    "    contingency_table = pd.crosstab(data[\"Dépression\"], data[var])\n",
    "    # Calculer la statistique de test du Chi-deux et la p-valeur\n",
    "    chi2, p, dl, expected = chi2_contingency(contingency_table)\n",
    "    # Ajouter les résultats aux listes correspondantes\n",
    "    var_names.append(var)\n",
    "    chi2_stats.append(chi2)\n",
    "    p_values.append(p)\n",
    "\n",
    "# Créer un DataFrame avec les résultats\n",
    "results_df = pd.DataFrame({\n",
    "    'Variable': var_names,\n",
    "    'Chi2': chi2_stats,\n",
    "    'P-valeur': p_values,\n",
    "})\n",
    "\n",
    "# Trier le DataFrame par ordre croissant de Chi2\n",
    "results_df.sort_values(by='Chi2', inplace=True,ascending=False)\n",
    "\n",
    "# Afficher le tableau des résultats\n",
    "print(results_df)"
   ]
  },
  {
   "cell_type": "markdown",
   "id": "3411df4a",
   "metadata": {},
   "source": [
    "A part la variables \"sexe\", toutes les autres variables sont significatives car elles ont une p-value inférieure à 0,05. C'est-à-dire qu'elles peuvent jouer un rôle dans notre modèle, nous décidons de les garder toutes (sauf la variable \"sexe\")."
   ]
  },
  {
   "cell_type": "markdown",
   "id": "b74e4c27",
   "metadata": {},
   "source": [
    "Nous faisons de même avec les variables quantitatives sauf qu'au lieu de faire un barplot nous faisons un boxplot, et à la place du test du chi deux nous effectuons un test Kruskal-Wallis."
   ]
  },
  {
   "cell_type": "code",
   "execution_count": 15,
   "id": "80954cf8",
   "metadata": {},
   "outputs": [
    {
     "data": {
      "image/png": "[encoded data removed]",
      "text/plain": [
       "<Figure size 432x288 with 1 Axes>"
      ]
     },
     "metadata": {
      "needs_background": "light"
     },
     "output_type": "display_data"
    },
    {
     "data": {
      "image/png": "[encoded data removed]",
      "text/plain": [
       "<Figure size 432x288 with 1 Axes>"
      ]
     },
     "metadata": {
      "needs_background": "light"
     },
     "output_type": "display_data"
    },
    {
     "data": {
      "image/png": "[encoded data removed]",
      "text/plain": [
       "<Figure size 432x288 with 1 Axes>"
      ]
     },
     "metadata": {
      "needs_background": "light"
     },
     "output_type": "display_data"
    }
   ],
   "source": [
    "# Sélectionner les variables numériques\n",
    "num_vars = [\"Age\", \"Note_a_l'école\", \"Heures_de_travail\"]\n",
    "\n",
    "\n",
    "# Générer un box plot pour chaque variable numérique\n",
    "for var in num_vars:\n",
    "    sns.boxplot(x='Dépression', y=var, data=data)\n",
    "    plt.title(var)\n",
    "    plt.xlabel('Reponse binaire')\n",
    "    plt.ylabel('Valeur')\n",
    "    plt.show()"
   ]
  },
  {
   "cell_type": "markdown",
   "id": "9089419c",
   "metadata": {},
   "source": [
    "Seule la variable \"note_a_l'école\" semble être non significative, prouvons le avec un test Kruskal-Wallis."
   ]
  },
  {
   "cell_type": "code",
   "execution_count": 16,
   "id": "12a7fa6b",
   "metadata": {},
   "outputs": [
    {
     "name": "stdout",
     "output_type": "stream",
     "text": [
      "            Variable  Kruskal-Wallis       P-valeur\n",
      "0                Age     1416.371668  5.818961e-310\n",
      "2  Heures_de_travail     1123.519639  2.553138e-246\n",
      "1     Note_a_l'école       13.240451   2.739720e-04\n"
     ]
    }
   ],
   "source": [
    "import scipy.stats as stats\n",
    "# Initialiser les listes pour stocker les résultats\n",
    "var_names = []\n",
    "kw_stats = []\n",
    "p_values = []\n",
    "\n",
    "# Parcourir toutes les variables numériques\n",
    "for var in num_vars:\n",
    "    # Calculer les groupes de valeurs\n",
    "    groups = [data[data[\"Dépression\"] == 0][var], data[data[\"Dépression\"] == 1][var]]\n",
    "    # Appliquer le test de Kruskal-Wallis\n",
    "    kw_stat, p = stats.kruskal(*groups) \n",
    "    #kw attend à avoir plusieurs arguments (tous les différents), sauf que chez nous ils sont regroupé dans une liste donc au \n",
    "    #lieu de les écrire un par un manuellement on utilise * qui le fait à notre place \n",
    "    # Ajouter les résultats aux listes correspondantes\n",
    "    var_names.append(var)\n",
    "    kw_stats.append(kw_stat)\n",
    "    p_values.append(p)\n",
    "\n",
    "# Créer un DataFrame avec les résultats\n",
    "results_df = pd.DataFrame({\n",
    "    'Variable': var_names,\n",
    "    'Kruskal-Wallis': kw_stats,\n",
    "    'P-valeur': p_values\n",
    "})\n",
    "\n",
    "# Trier le DataFrame par ordre croissant de p-valeur\n",
    "results_df.sort_values(by='P-valeur', inplace=True)\n",
    "\n",
    "# Afficher le tableau des résultats\n",
    "print(results_df)"
   ]
  },
  {
   "cell_type": "markdown",
   "id": "a8b2f3f1",
   "metadata": {},
   "source": [
    "Au final, toutes les variables sont significatives puisqu'elles ont une p-value inférieure à 0,05. "
   ]
  },
  {
   "cell_type": "markdown",
   "id": "7d4b8a97",
   "metadata": {},
   "source": [
    "# Modèles"
   ]
  },
  {
   "cell_type": "markdown",
   "id": "f59890c1",
   "metadata": {},
   "source": [
    "Commençons désormais à effectuer nos premiers modèles. Pour cela, nous allons tout d'abord préparer nos données. Le but étant ici de prédire si l'étudiant est en dépression ou non donc la variable **y** est \"Dépressions\". "
   ]
  },
  {
   "cell_type": "code",
   "execution_count": 17,
   "id": "73f8151f",
   "metadata": {},
   "outputs": [],
   "source": [
    "from sklearn.model_selection import train_test_split\n",
    "from sklearn.metrics import accuracy_score"
   ]
  },
  {
   "cell_type": "code",
   "execution_count": 18,
   "id": "7668c9bf",
   "metadata": {},
   "outputs": [],
   "source": [
    "import statsmodels.api as sm\n",
    "\n",
    "X = data[[\"Age\", \"Note_a_l'école\", \"Heures_de_travail\", \"Pression_Académique\", \"Satisfaction_étude\", \n",
    "          \"Habitudes_alimentaires\", \"Diplome\", \"Sucidaire?\",\"Stress_financier\", \"Prblml_mentaux_famille\"]]\n",
    "\n",
    "\n",
    "\n",
    "\n",
    "y = data[\"Dépression\"]"
   ]
  },
  {
   "cell_type": "markdown",
   "id": "d5c6747d",
   "metadata": {},
   "source": [
    "Nous commençons par le modèle le plus simple : **la régression logistique**."
   ]
  },
  {
   "cell_type": "markdown",
   "id": "602eeb93",
   "metadata": {},
   "source": [
    "Nous transformons les variables qualitatives en variables binaires pour pouvoir les utiliser dans notre régression logistique."
   ]
  },
  {
   "cell_type": "code",
   "execution_count": 19,
   "id": "cd0a044d",
   "metadata": {},
   "outputs": [],
   "source": [
    "X = pd.get_dummies(X, columns = [\"Pression_Académique\", \"Satisfaction_étude\",\"Diplome\",\n",
    "          \"Habitudes_alimentaires\",\"Sucidaire?\",\"Stress_financier\", \"Prblml_mentaux_famille\"], drop_first = True)\n",
    "\n",
    "\n",
    "# drop_first = True veut dire que pour les variables bianires qu'on transforme en dummies, on supprimes la variable 0 \n",
    "# car sinon on aura multicolinéarité entre les variables "
   ]
  },
  {
   "cell_type": "code",
   "execution_count": 20,
   "id": "52f0e93c",
   "metadata": {},
   "outputs": [
    {
     "data": {
      "text/html": [
       "<div>\n",
       "<style scoped>\n",
       "    .dataframe tbody tr th:only-of-type {\n",
       "        vertical-align: middle;\n",
       "    }\n",
       "\n",
       "    .dataframe tbody tr th {\n",
       "        vertical-align: top;\n",
       "    }\n",
       "\n",
       "    .dataframe thead th {\n",
       "        text-align: right;\n",
       "    }\n",
       "</style>\n",
       "<table border=\"1\" class=\"dataframe\">\n",
       "  <thead>\n",
       "    <tr style=\"text-align: right;\">\n",
       "      <th></th>\n",
       "      <th>Age</th>\n",
       "      <th>Note_a_l'école</th>\n",
       "      <th>Heures_de_travail</th>\n",
       "      <th>Pression_Académique_1.0</th>\n",
       "      <th>Pression_Académique_2.0</th>\n",
       "      <th>Pression_Académique_3.0</th>\n",
       "      <th>Pression_Académique_4.0</th>\n",
       "      <th>Pression_Académique_5.0</th>\n",
       "      <th>Satisfaction_étude_1.0</th>\n",
       "      <th>Satisfaction_étude_2.0</th>\n",
       "      <th>...</th>\n",
       "      <th>Diplome_PhD</th>\n",
       "      <th>Habitudes_alimentaires_Moderate</th>\n",
       "      <th>Habitudes_alimentaires_Others</th>\n",
       "      <th>Habitudes_alimentaires_Unhealthy</th>\n",
       "      <th>Sucidaire?_Yes</th>\n",
       "      <th>Stress_financier_2.0</th>\n",
       "      <th>Stress_financier_3.0</th>\n",
       "      <th>Stress_financier_4.0</th>\n",
       "      <th>Stress_financier_5.0</th>\n",
       "      <th>Prblml_mentaux_famille_Yes</th>\n",
       "    </tr>\n",
       "  </thead>\n",
       "  <tbody>\n",
       "    <tr>\n",
       "      <th>0</th>\n",
       "      <td>33.0</td>\n",
       "      <td>8.97</td>\n",
       "      <td>3.0</td>\n",
       "      <td>0</td>\n",
       "      <td>0</td>\n",
       "      <td>0</td>\n",
       "      <td>0</td>\n",
       "      <td>1</td>\n",
       "      <td>0</td>\n",
       "      <td>1</td>\n",
       "      <td>...</td>\n",
       "      <td>0</td>\n",
       "      <td>0</td>\n",
       "      <td>0</td>\n",
       "      <td>0</td>\n",
       "      <td>1</td>\n",
       "      <td>0</td>\n",
       "      <td>0</td>\n",
       "      <td>0</td>\n",
       "      <td>0</td>\n",
       "      <td>0</td>\n",
       "    </tr>\n",
       "    <tr>\n",
       "      <th>1</th>\n",
       "      <td>24.0</td>\n",
       "      <td>5.90</td>\n",
       "      <td>3.0</td>\n",
       "      <td>0</td>\n",
       "      <td>1</td>\n",
       "      <td>0</td>\n",
       "      <td>0</td>\n",
       "      <td>0</td>\n",
       "      <td>0</td>\n",
       "      <td>0</td>\n",
       "      <td>...</td>\n",
       "      <td>0</td>\n",
       "      <td>1</td>\n",
       "      <td>0</td>\n",
       "      <td>0</td>\n",
       "      <td>0</td>\n",
       "      <td>1</td>\n",
       "      <td>0</td>\n",
       "      <td>0</td>\n",
       "      <td>0</td>\n",
       "      <td>1</td>\n",
       "    </tr>\n",
       "    <tr>\n",
       "      <th>2</th>\n",
       "      <td>31.0</td>\n",
       "      <td>7.03</td>\n",
       "      <td>9.0</td>\n",
       "      <td>0</td>\n",
       "      <td>0</td>\n",
       "      <td>1</td>\n",
       "      <td>0</td>\n",
       "      <td>0</td>\n",
       "      <td>0</td>\n",
       "      <td>0</td>\n",
       "      <td>...</td>\n",
       "      <td>0</td>\n",
       "      <td>0</td>\n",
       "      <td>0</td>\n",
       "      <td>0</td>\n",
       "      <td>0</td>\n",
       "      <td>0</td>\n",
       "      <td>0</td>\n",
       "      <td>0</td>\n",
       "      <td>0</td>\n",
       "      <td>1</td>\n",
       "    </tr>\n",
       "    <tr>\n",
       "      <th>3</th>\n",
       "      <td>28.0</td>\n",
       "      <td>5.59</td>\n",
       "      <td>4.0</td>\n",
       "      <td>0</td>\n",
       "      <td>0</td>\n",
       "      <td>1</td>\n",
       "      <td>0</td>\n",
       "      <td>0</td>\n",
       "      <td>0</td>\n",
       "      <td>1</td>\n",
       "      <td>...</td>\n",
       "      <td>0</td>\n",
       "      <td>1</td>\n",
       "      <td>0</td>\n",
       "      <td>0</td>\n",
       "      <td>1</td>\n",
       "      <td>0</td>\n",
       "      <td>0</td>\n",
       "      <td>0</td>\n",
       "      <td>1</td>\n",
       "      <td>1</td>\n",
       "    </tr>\n",
       "    <tr>\n",
       "      <th>4</th>\n",
       "      <td>25.0</td>\n",
       "      <td>8.13</td>\n",
       "      <td>1.0</td>\n",
       "      <td>0</td>\n",
       "      <td>0</td>\n",
       "      <td>0</td>\n",
       "      <td>1</td>\n",
       "      <td>0</td>\n",
       "      <td>0</td>\n",
       "      <td>0</td>\n",
       "      <td>...</td>\n",
       "      <td>0</td>\n",
       "      <td>1</td>\n",
       "      <td>0</td>\n",
       "      <td>0</td>\n",
       "      <td>1</td>\n",
       "      <td>0</td>\n",
       "      <td>0</td>\n",
       "      <td>0</td>\n",
       "      <td>0</td>\n",
       "      <td>0</td>\n",
       "    </tr>\n",
       "  </tbody>\n",
       "</table>\n",
       "<p>5 rows × 49 columns</p>\n",
       "</div>"
      ],
      "text/plain": [
       "    Age  Note_a_l'école  Heures_de_travail  Pression_Académique_1.0  \\\n",
       "0  33.0            8.97                3.0                        0   \n",
       "1  24.0            5.90                3.0                        0   \n",
       "2  31.0            7.03                9.0                        0   \n",
       "3  28.0            5.59                4.0                        0   \n",
       "4  25.0            8.13                1.0                        0   \n",
       "\n",
       "   Pression_Académique_2.0  Pression_Académique_3.0  Pression_Académique_4.0  \\\n",
       "0                        0                        0                        0   \n",
       "1                        1                        0                        0   \n",
       "2                        0                        1                        0   \n",
       "3                        0                        1                        0   \n",
       "4                        0                        0                        1   \n",
       "\n",
       "   Pression_Académique_5.0  Satisfaction_étude_1.0  Satisfaction_étude_2.0  \\\n",
       "0                        1                       0                       1   \n",
       "1                        0                       0                       0   \n",
       "2                        0                       0                       0   \n",
       "3                        0                       0                       1   \n",
       "4                        0                       0                       0   \n",
       "\n",
       "   ...  Diplome_PhD  Habitudes_alimentaires_Moderate  \\\n",
       "0  ...            0                                0   \n",
       "1  ...            0                                1   \n",
       "2  ...            0                                0   \n",
       "3  ...            0                                1   \n",
       "4  ...            0                                1   \n",
       "\n",
       "   Habitudes_alimentaires_Others  Habitudes_alimentaires_Unhealthy  \\\n",
       "0                              0                                 0   \n",
       "1                              0                                 0   \n",
       "2                              0                                 0   \n",
       "3                              0                                 0   \n",
       "4                              0                                 0   \n",
       "\n",
       "   Sucidaire?_Yes  Stress_financier_2.0  Stress_financier_3.0  \\\n",
       "0               1                     0                     0   \n",
       "1               0                     1                     0   \n",
       "2               0                     0                     0   \n",
       "3               1                     0                     0   \n",
       "4               1                     0                     0   \n",
       "\n",
       "   Stress_financier_4.0  Stress_financier_5.0  Prblml_mentaux_famille_Yes  \n",
       "0                     0                     0                           0  \n",
       "1                     0                     0                           1  \n",
       "2                     0                     0                           1  \n",
       "3                     0                     1                           1  \n",
       "4                     0                     0                           0  \n",
       "\n",
       "[5 rows x 49 columns]"
      ]
     },
     "execution_count": 20,
     "metadata": {},
     "output_type": "execute_result"
    }
   ],
   "source": [
    "X.head()"
   ]
  },
  {
   "cell_type": "code",
   "execution_count": 21,
   "id": "ce143e81",
   "metadata": {},
   "outputs": [
    {
     "name": "stderr",
     "output_type": "stream",
     "text": [
      "C:\\Users\\Nesho\\anaconda3\\lib\\site-packages\\statsmodels\\tsa\\tsatools.py:142: FutureWarning: In a future version of pandas all arguments of concat except for the argument 'objs' will be keyword-only\n",
      "  x = pd.concat(x[::order], 1)\n"
     ]
    }
   ],
   "source": [
    "# Ajouter une constante pour l'interception\n",
    "X = sm.add_constant(X)\n",
    "\n",
    "#Par défaut, certains algorithmes (comme ceux de Statsmodels) supposent qu'il n'y a pas d'ordonnée à l'origine "
   ]
  },
  {
   "cell_type": "markdown",
   "id": "713c6647",
   "metadata": {},
   "source": [
    "Nous divisons ensuite notre jeu de données en 2, un train set pour l'entraînement et un test set pour \"évaluer\" notre modèle autrement dit pour voir si notre modèle arrive bien à généraliser. "
   ]
  },
  {
   "cell_type": "code",
   "execution_count": 22,
   "id": "1e9425f9",
   "metadata": {},
   "outputs": [],
   "source": [
    "X_train, X_test, y_train, y_test = train_test_split(X, y, test_size=0.2, random_state=42)\n",
    "\n",
    "\n",
    "#random_state = 42 : \n",
    "\n",
    "#Reproductibilité : Si vous fixez le paramètre random_state (par exemple, random_state=42), \n",
    "#                      le générateur aléatoire produira le même découpage des données à chaque exécution du script. Cela \n",
    "#                      garantit que les résultats sont reproductibles.\n",
    "\n",
    "#Comparabilité : En fixant random_state, vous vous assurez que tout le monde (collaborateurs, reviewers, etc.) \n",
    "#                travaille avec le même jeu d'entraînement et de test, ce qui est essentiel pour comparer les performances \n",
    "#                des modèles.\"\"\"\n",
    "\n",
    "#En gros ça utilise le même découpage \n",
    "\n",
    "#Ici le 42 n'a pas d'importance cest juste un \"code\""
   ]
  },
  {
   "cell_type": "code",
   "execution_count": 23,
   "id": "df0791fd",
   "metadata": {},
   "outputs": [
    {
     "name": "stdout",
     "output_type": "stream",
     "text": [
      "const                               float64\n",
      "Age                                 float64\n",
      "Note_a_l'école                      float64\n",
      "Heures_de_travail                   float64\n",
      "Pression_Académique_1.0               uint8\n",
      "Pression_Académique_2.0               uint8\n",
      "Pression_Académique_3.0               uint8\n",
      "Pression_Académique_4.0               uint8\n",
      "Pression_Académique_5.0               uint8\n",
      "Satisfaction_étude_1.0                uint8\n",
      "Satisfaction_étude_2.0                uint8\n",
      "Satisfaction_étude_3.0                uint8\n",
      "Satisfaction_étude_4.0                uint8\n",
      "Satisfaction_étude_5.0                uint8\n",
      "Diplome_B.Com                         uint8\n",
      "Diplome_B.Ed                          uint8\n",
      "Diplome_B.Pharm                       uint8\n",
      "Diplome_B.Tech                        uint8\n",
      "Diplome_BA                            uint8\n",
      "Diplome_BBA                           uint8\n",
      "Diplome_BCA                           uint8\n",
      "Diplome_BE                            uint8\n",
      "Diplome_BHM                           uint8\n",
      "Diplome_BSc                           uint8\n",
      "Diplome_Class 12                      uint8\n",
      "Diplome_LLB                           uint8\n",
      "Diplome_LLM                           uint8\n",
      "Diplome_M.Com                         uint8\n",
      "Diplome_M.Ed                          uint8\n",
      "Diplome_M.Pharm                       uint8\n",
      "Diplome_M.Tech                        uint8\n",
      "Diplome_MA                            uint8\n",
      "Diplome_MBA                           uint8\n",
      "Diplome_MBBS                          uint8\n",
      "Diplome_MCA                           uint8\n",
      "Diplome_MD                            uint8\n",
      "Diplome_ME                            uint8\n",
      "Diplome_MHM                           uint8\n",
      "Diplome_MSc                           uint8\n",
      "Diplome_Others                        uint8\n",
      "Diplome_PhD                           uint8\n",
      "Habitudes_alimentaires_Moderate       uint8\n",
      "Habitudes_alimentaires_Others         uint8\n",
      "Habitudes_alimentaires_Unhealthy      uint8\n",
      "Sucidaire?_Yes                        uint8\n",
      "Stress_financier_2.0                  uint8\n",
      "Stress_financier_3.0                  uint8\n",
      "Stress_financier_4.0                  uint8\n",
      "Stress_financier_5.0                  uint8\n",
      "Prblml_mentaux_famille_Yes            uint8\n",
      "dtype: object\n"
     ]
    }
   ],
   "source": [
    "print(X_train.dtypes)  #il faut convertir TOUTES les variables catégoriques en dummies "
   ]
  },
  {
   "cell_type": "markdown",
   "id": "5b71ce1c",
   "metadata": {},
   "source": [
    "Toutes nos nouvelles variables sont biens numériques donc nous pouvons réaliser la régression logistique. "
   ]
  },
  {
   "cell_type": "code",
   "execution_count": 24,
   "id": "41105b7d",
   "metadata": {},
   "outputs": [],
   "source": [
    "# Créer le modèle de régression logistique\n",
    "logit_model = sm.Logit(y_train, X_train)"
   ]
  },
  {
   "cell_type": "code",
   "execution_count": 25,
   "id": "7b138799",
   "metadata": {},
   "outputs": [
    {
     "name": "stdout",
     "output_type": "stream",
     "text": [
      "Optimization terminated successfully.\n",
      "         Current function value: 0.346222\n",
      "         Iterations 7\n"
     ]
    }
   ],
   "source": [
    "# Ajuster le modèle aux données d'apprentissage\n",
    "result = logit_model.fit()"
   ]
  },
  {
   "cell_type": "markdown",
   "id": "67415214",
   "metadata": {},
   "source": [
    "Nous avons enlevé la variable ville car sinon il y aurait eu trop d'itérations."
   ]
  },
  {
   "cell_type": "code",
   "execution_count": 26,
   "id": "199f86f1",
   "metadata": {},
   "outputs": [
    {
     "name": "stdout",
     "output_type": "stream",
     "text": [
      "                           Logit Regression Results                           \n",
      "==============================================================================\n",
      "Dep. Variable:             Dépression   No. Observations:                22320\n",
      "Model:                          Logit   Df Residuals:                    22270\n",
      "Method:                           MLE   Df Model:                           49\n",
      "Date:                Mon, 13 Jan 2025   Pseudo R-squ.:                  0.4893\n",
      "Time:                        18:49:40   Log-Likelihood:                -7727.7\n",
      "converged:                       True   LL-Null:                       -15133.\n",
      "Covariance Type:            nonrobust   LLR p-value:                     0.000\n",
      "====================================================================================================\n",
      "                                       coef    std err          z      P>|z|      [0.025      0.975]\n",
      "----------------------------------------------------------------------------------------------------\n",
      "const                               -2.0995      1.000     -2.099      0.036      -4.060      -0.139\n",
      "Age                                 -0.1158      0.006    -20.944      0.000      -0.127      -0.105\n",
      "Note_a_l'école                       0.0681      0.014      4.871      0.000       0.041       0.096\n",
      "Heures_de_travail                    0.1179      0.006     21.156      0.000       0.107       0.129\n",
      "Pression_Académique_1.0             -0.6337      1.332     -0.476      0.634      -3.245       1.978\n",
      "Pression_Académique_2.0              0.4025      1.332      0.302      0.763      -2.208       3.013\n",
      "Pression_Académique_3.0              1.2918      1.332      0.970      0.332      -1.318       3.902\n",
      "Pression_Académique_4.0              2.1139      1.332      1.588      0.112      -0.496       4.724\n",
      "Pression_Académique_5.0              2.7846      1.332      2.091      0.037       0.174       5.395\n",
      "Satisfaction_étude_1.0               0.1416      1.449      0.098      0.922      -2.698       2.981\n",
      "Satisfaction_étude_2.0              -0.3050      1.448     -0.211      0.833      -3.144       2.534\n",
      "Satisfaction_étude_3.0              -0.3719      1.448     -0.257      0.797      -3.210       2.466\n",
      "Satisfaction_étude_4.0              -0.7178      1.449     -0.495      0.620      -3.557       2.121\n",
      "Satisfaction_étude_5.0              -0.8913      1.449     -0.615      0.538      -3.731       1.948\n",
      "Diplome_B.Com                       -0.1234      0.128     -0.962      0.336      -0.375       0.128\n",
      "Diplome_B.Ed                        -0.0581      0.122     -0.477      0.634      -0.297       0.181\n",
      "Diplome_B.Pharm                     -0.1132      0.149     -0.761      0.447      -0.405       0.178\n",
      "Diplome_B.Tech                       0.1945      0.137      1.422      0.155      -0.074       0.463\n",
      "Diplome_BA                          -0.2543      0.158     -1.606      0.108      -0.565       0.056\n",
      "Diplome_BBA                          0.0825      0.155      0.532      0.595      -0.221       0.386\n",
      "Diplome_BCA                          0.0538      0.128      0.422      0.673      -0.196       0.304\n",
      "Diplome_BE                          -0.0078      0.157     -0.050      0.960      -0.316       0.300\n",
      "Diplome_BHM                         -0.0799      0.146     -0.548      0.583      -0.366       0.206\n",
      "Diplome_BSc                          0.1855      0.147      1.265      0.206      -0.102       0.473\n",
      "Diplome_Class 12                    -0.1106      0.107     -1.034      0.301      -0.320       0.099\n",
      "Diplome_LLB                          0.1901      0.160      1.189      0.234      -0.123       0.503\n",
      "Diplome_LLM                          0.2101      0.179      1.172      0.241      -0.141       0.562\n",
      "Diplome_M.Com                       -0.0184      0.154     -0.119      0.905      -0.320       0.284\n",
      "Diplome_M.Ed                         0.0826      0.152      0.543      0.587      -0.215       0.380\n",
      "Diplome_M.Pharm                     -0.0938      0.168     -0.559      0.576      -0.422       0.235\n",
      "Diplome_M.Tech                      -0.1256      0.143     -0.878      0.380      -0.406       0.155\n",
      "Diplome_MA                          -0.1538      0.166     -0.924      0.355      -0.480       0.172\n",
      "Diplome_MBA                         -0.0209      0.167     -0.125      0.900      -0.348       0.306\n",
      "Diplome_MBBS                         0.1350      0.157      0.860      0.390      -0.173       0.442\n",
      "Diplome_MCA                          0.0029      0.140      0.021      0.983      -0.272       0.277\n",
      "Diplome_MD                           0.1534      0.169      0.909      0.363      -0.177       0.484\n",
      "Diplome_ME                          -0.0828      0.266     -0.312      0.755      -0.603       0.438\n",
      "Diplome_MHM                          0.2009      0.247      0.814      0.416      -0.283       0.685\n",
      "Diplome_MSc                         -0.0981      0.134     -0.731      0.465      -0.361       0.165\n",
      "Diplome_Others                       0.6093      0.523      1.164      0.244      -0.417       1.635\n",
      "Diplome_PhD                          0.1040      0.172      0.604      0.546      -0.233       0.441\n",
      "Habitudes_alimentaires_Moderate      0.4807      0.051      9.472      0.000       0.381       0.580\n",
      "Habitudes_alimentaires_Others        1.0713      0.825      1.298      0.194      -0.546       2.689\n",
      "Habitudes_alimentaires_Unhealthy     1.0755      0.052     20.711      0.000       0.974       1.177\n",
      "Sucidaire?_Yes                       2.5569      0.044     58.021      0.000       2.471       2.643\n",
      "Stress_financier_2.0                 0.3710      0.065      5.705      0.000       0.244       0.498\n",
      "Stress_financier_3.0                 1.0581      0.065     16.278      0.000       0.931       1.185\n",
      "Stress_financier_4.0                 1.4915      0.064     23.189      0.000       1.365       1.618\n",
      "Stress_financier_5.0                 2.2177      0.067     32.908      0.000       2.086       2.350\n",
      "Prblml_mentaux_famille_Yes           0.2895      0.041      7.064      0.000       0.209       0.370\n",
      "====================================================================================================\n"
     ]
    }
   ],
   "source": [
    "print(result.summary())"
   ]
  },
  {
   "cell_type": "markdown",
   "id": "a20c6e0d",
   "metadata": {},
   "source": [
    "Nous remarquons que de nombreuses variables ont une p valeur > 0,05 donc nous allons créer une autre régression en enlevant les variables non significatives. Nous décidons quand même de tester la qualité de ce modèle en analysant la courbe ROC pour avoir une idée. "
   ]
  },
  {
   "cell_type": "code",
   "execution_count": 27,
   "id": "621008a3",
   "metadata": {},
   "outputs": [
    {
     "data": {
      "image/png": "[encoded data removed]",
      "text/plain": [
       "<Figure size 720x576 with 1 Axes>"
      ]
     },
     "metadata": {
      "needs_background": "light"
     },
     "output_type": "display_data"
    }
   ],
   "source": [
    "from sklearn.metrics import roc_curve, auc\n",
    "# Obtenir les prédictions du modèle sur l'ensemble d'entraînement et de test\n",
    "y_train_pred = result.predict(X_train)\n",
    "y_test_pred = result.predict(X_test)\n",
    "\n",
    "# Calculer les courbes ROC et les aires sous la courbe (AUC)\n",
    "fpr_train, tpr_train, thresholds_train = roc_curve(y_train, y_train_pred)\n",
    "roc_auc_train = auc(fpr_train, tpr_train)\n",
    "\n",
    "fpr_test, tpr_test, thresholds_test = roc_curve(y_test, y_test_pred)\n",
    "roc_auc_test = auc(fpr_test, tpr_test)\n",
    "\n",
    "# Tracer les courbes ROC\n",
    "plt.figure(figsize=(10, 8))\n",
    "plt.plot(fpr_train, tpr_train, color='darkorange', lw=2, label='ROC curve (train) (AUC = %0.2f)' % roc_auc_train)\n",
    "plt.plot(fpr_test, tpr_test, color='green', lw=2, label='ROC curve (test) (AUC = %0.2f)' % roc_auc_test)\n",
    "plt.plot([0, 1], [0, 1], color='navy', lw=2, linestyle='--')\n",
    "plt.xlim([0.0, 1.0])\n",
    "plt.ylim([0.0, 1.05])\n",
    "plt.xlabel('Taux de faux positifs')\n",
    "plt.ylabel('Taux de vrais positifs')\n",
    "plt.title('Courbes ROC')\n",
    "plt.legend(loc=\"lower right\")\n",
    "plt.show()"
   ]
  },
  {
   "cell_type": "markdown",
   "id": "3ff99b28",
   "metadata": {},
   "source": [
    "Nous avons un bon AUC dans la régression avec la base d'entraînements et de tests, respectivement de 0,92 et 0,91. De plus vu que les AUC sont proches cela signifie qu'il n'y a pas de overfitting et de underfitting."
   ]
  },
  {
   "cell_type": "markdown",
   "id": "5775b15d",
   "metadata": {},
   "source": [
    "Nous supprimons désormais les variables avec une p valeur trop élévée. Vu qu'il s'agit des mêmes étapes que la regréssion précédente nous allons directement passer à l'interprétation des résulats. "
   ]
  },
  {
   "cell_type": "code",
   "execution_count": 28,
   "id": "2bc48781",
   "metadata": {},
   "outputs": [],
   "source": [
    "import statsmodels.api as sm\n",
    "\n",
    "X = data[[\"Age\", \"Note_a_l'école\", \"Heures_de_travail\", \"Pression_Académique\", \"Satisfaction_étude\", \n",
    "          \"Habitudes_alimentaires\", \"Diplome\", \"Sucidaire?\",\"Stress_financier\", \"Prblml_mentaux_famille\"]]\n",
    "\n",
    "X = X.drop(columns = [\"Diplome\", \"Satisfaction_étude\"], axis =1)\n",
    "\n",
    "\n",
    "y = data[\"Dépression\"]"
   ]
  },
  {
   "cell_type": "code",
   "execution_count": 29,
   "id": "8cf389a8",
   "metadata": {},
   "outputs": [],
   "source": [
    "X = pd.get_dummies(X, columns = [\"Pression_Académique\",\n",
    "          \"Habitudes_alimentaires\",\"Sucidaire?\",\"Stress_financier\", \"Prblml_mentaux_famille\"], drop_first = True)"
   ]
  },
  {
   "cell_type": "code",
   "execution_count": 30,
   "id": "6d9cb9ac",
   "metadata": {},
   "outputs": [
    {
     "data": {
      "text/html": [
       "<div>\n",
       "<style scoped>\n",
       "    .dataframe tbody tr th:only-of-type {\n",
       "        vertical-align: middle;\n",
       "    }\n",
       "\n",
       "    .dataframe tbody tr th {\n",
       "        vertical-align: top;\n",
       "    }\n",
       "\n",
       "    .dataframe thead th {\n",
       "        text-align: right;\n",
       "    }\n",
       "</style>\n",
       "<table border=\"1\" class=\"dataframe\">\n",
       "  <thead>\n",
       "    <tr style=\"text-align: right;\">\n",
       "      <th></th>\n",
       "      <th>Age</th>\n",
       "      <th>Note_a_l'école</th>\n",
       "      <th>Heures_de_travail</th>\n",
       "      <th>Pression_Académique_1.0</th>\n",
       "      <th>Pression_Académique_2.0</th>\n",
       "      <th>Pression_Académique_3.0</th>\n",
       "      <th>Pression_Académique_4.0</th>\n",
       "      <th>Pression_Académique_5.0</th>\n",
       "      <th>Habitudes_alimentaires_Moderate</th>\n",
       "      <th>Habitudes_alimentaires_Others</th>\n",
       "      <th>Habitudes_alimentaires_Unhealthy</th>\n",
       "      <th>Sucidaire?_Yes</th>\n",
       "      <th>Stress_financier_2.0</th>\n",
       "      <th>Stress_financier_3.0</th>\n",
       "      <th>Stress_financier_4.0</th>\n",
       "      <th>Stress_financier_5.0</th>\n",
       "      <th>Prblml_mentaux_famille_Yes</th>\n",
       "    </tr>\n",
       "  </thead>\n",
       "  <tbody>\n",
       "    <tr>\n",
       "      <th>0</th>\n",
       "      <td>33.0</td>\n",
       "      <td>8.97</td>\n",
       "      <td>3.0</td>\n",
       "      <td>0</td>\n",
       "      <td>0</td>\n",
       "      <td>0</td>\n",
       "      <td>0</td>\n",
       "      <td>1</td>\n",
       "      <td>0</td>\n",
       "      <td>0</td>\n",
       "      <td>0</td>\n",
       "      <td>1</td>\n",
       "      <td>0</td>\n",
       "      <td>0</td>\n",
       "      <td>0</td>\n",
       "      <td>0</td>\n",
       "      <td>0</td>\n",
       "    </tr>\n",
       "    <tr>\n",
       "      <th>1</th>\n",
       "      <td>24.0</td>\n",
       "      <td>5.90</td>\n",
       "      <td>3.0</td>\n",
       "      <td>0</td>\n",
       "      <td>1</td>\n",
       "      <td>0</td>\n",
       "      <td>0</td>\n",
       "      <td>0</td>\n",
       "      <td>1</td>\n",
       "      <td>0</td>\n",
       "      <td>0</td>\n",
       "      <td>0</td>\n",
       "      <td>1</td>\n",
       "      <td>0</td>\n",
       "      <td>0</td>\n",
       "      <td>0</td>\n",
       "      <td>1</td>\n",
       "    </tr>\n",
       "    <tr>\n",
       "      <th>2</th>\n",
       "      <td>31.0</td>\n",
       "      <td>7.03</td>\n",
       "      <td>9.0</td>\n",
       "      <td>0</td>\n",
       "      <td>0</td>\n",
       "      <td>1</td>\n",
       "      <td>0</td>\n",
       "      <td>0</td>\n",
       "      <td>0</td>\n",
       "      <td>0</td>\n",
       "      <td>0</td>\n",
       "      <td>0</td>\n",
       "      <td>0</td>\n",
       "      <td>0</td>\n",
       "      <td>0</td>\n",
       "      <td>0</td>\n",
       "      <td>1</td>\n",
       "    </tr>\n",
       "    <tr>\n",
       "      <th>3</th>\n",
       "      <td>28.0</td>\n",
       "      <td>5.59</td>\n",
       "      <td>4.0</td>\n",
       "      <td>0</td>\n",
       "      <td>0</td>\n",
       "      <td>1</td>\n",
       "      <td>0</td>\n",
       "      <td>0</td>\n",
       "      <td>1</td>\n",
       "      <td>0</td>\n",
       "      <td>0</td>\n",
       "      <td>1</td>\n",
       "      <td>0</td>\n",
       "      <td>0</td>\n",
       "      <td>0</td>\n",
       "      <td>1</td>\n",
       "      <td>1</td>\n",
       "    </tr>\n",
       "    <tr>\n",
       "      <th>4</th>\n",
       "      <td>25.0</td>\n",
       "      <td>8.13</td>\n",
       "      <td>1.0</td>\n",
       "      <td>0</td>\n",
       "      <td>0</td>\n",
       "      <td>0</td>\n",
       "      <td>1</td>\n",
       "      <td>0</td>\n",
       "      <td>1</td>\n",
       "      <td>0</td>\n",
       "      <td>0</td>\n",
       "      <td>1</td>\n",
       "      <td>0</td>\n",
       "      <td>0</td>\n",
       "      <td>0</td>\n",
       "      <td>0</td>\n",
       "      <td>0</td>\n",
       "    </tr>\n",
       "  </tbody>\n",
       "</table>\n",
       "</div>"
      ],
      "text/plain": [
       "    Age  Note_a_l'école  Heures_de_travail  Pression_Académique_1.0  \\\n",
       "0  33.0            8.97                3.0                        0   \n",
       "1  24.0            5.90                3.0                        0   \n",
       "2  31.0            7.03                9.0                        0   \n",
       "3  28.0            5.59                4.0                        0   \n",
       "4  25.0            8.13                1.0                        0   \n",
       "\n",
       "   Pression_Académique_2.0  Pression_Académique_3.0  Pression_Académique_4.0  \\\n",
       "0                        0                        0                        0   \n",
       "1                        1                        0                        0   \n",
       "2                        0                        1                        0   \n",
       "3                        0                        1                        0   \n",
       "4                        0                        0                        1   \n",
       "\n",
       "   Pression_Académique_5.0  Habitudes_alimentaires_Moderate  \\\n",
       "0                        1                                0   \n",
       "1                        0                                1   \n",
       "2                        0                                0   \n",
       "3                        0                                1   \n",
       "4                        0                                1   \n",
       "\n",
       "   Habitudes_alimentaires_Others  Habitudes_alimentaires_Unhealthy  \\\n",
       "0                              0                                 0   \n",
       "1                              0                                 0   \n",
       "2                              0                                 0   \n",
       "3                              0                                 0   \n",
       "4                              0                                 0   \n",
       "\n",
       "   Sucidaire?_Yes  Stress_financier_2.0  Stress_financier_3.0  \\\n",
       "0               1                     0                     0   \n",
       "1               0                     1                     0   \n",
       "2               0                     0                     0   \n",
       "3               1                     0                     0   \n",
       "4               1                     0                     0   \n",
       "\n",
       "   Stress_financier_4.0  Stress_financier_5.0  Prblml_mentaux_famille_Yes  \n",
       "0                     0                     0                           0  \n",
       "1                     0                     0                           1  \n",
       "2                     0                     0                           1  \n",
       "3                     0                     1                           1  \n",
       "4                     0                     0                           0  "
      ]
     },
     "execution_count": 30,
     "metadata": {},
     "output_type": "execute_result"
    }
   ],
   "source": [
    "X.head()"
   ]
  },
  {
   "cell_type": "code",
   "execution_count": 31,
   "id": "1e1de0df",
   "metadata": {},
   "outputs": [],
   "source": [
    "X = X.drop(columns = [\"Pression_Académique_1.0\", \"Pression_Académique_2.0\", \"Pression_Académique_3.0\", \n",
    "                      \"Pression_Académique_4.0\", \"Habitudes_alimentaires_Others\"], axis = 1)"
   ]
  },
  {
   "cell_type": "code",
   "execution_count": 32,
   "id": "d538d389",
   "metadata": {},
   "outputs": [
    {
     "data": {
      "text/html": [
       "<div>\n",
       "<style scoped>\n",
       "    .dataframe tbody tr th:only-of-type {\n",
       "        vertical-align: middle;\n",
       "    }\n",
       "\n",
       "    .dataframe tbody tr th {\n",
       "        vertical-align: top;\n",
       "    }\n",
       "\n",
       "    .dataframe thead th {\n",
       "        text-align: right;\n",
       "    }\n",
       "</style>\n",
       "<table border=\"1\" class=\"dataframe\">\n",
       "  <thead>\n",
       "    <tr style=\"text-align: right;\">\n",
       "      <th></th>\n",
       "      <th>Age</th>\n",
       "      <th>Note_a_l'école</th>\n",
       "      <th>Heures_de_travail</th>\n",
       "      <th>Pression_Académique_5.0</th>\n",
       "      <th>Habitudes_alimentaires_Moderate</th>\n",
       "      <th>Habitudes_alimentaires_Unhealthy</th>\n",
       "      <th>Sucidaire?_Yes</th>\n",
       "      <th>Stress_financier_2.0</th>\n",
       "      <th>Stress_financier_3.0</th>\n",
       "      <th>Stress_financier_4.0</th>\n",
       "      <th>Stress_financier_5.0</th>\n",
       "      <th>Prblml_mentaux_famille_Yes</th>\n",
       "    </tr>\n",
       "  </thead>\n",
       "  <tbody>\n",
       "    <tr>\n",
       "      <th>0</th>\n",
       "      <td>33.0</td>\n",
       "      <td>8.97</td>\n",
       "      <td>3.0</td>\n",
       "      <td>1</td>\n",
       "      <td>0</td>\n",
       "      <td>0</td>\n",
       "      <td>1</td>\n",
       "      <td>0</td>\n",
       "      <td>0</td>\n",
       "      <td>0</td>\n",
       "      <td>0</td>\n",
       "      <td>0</td>\n",
       "    </tr>\n",
       "    <tr>\n",
       "      <th>1</th>\n",
       "      <td>24.0</td>\n",
       "      <td>5.90</td>\n",
       "      <td>3.0</td>\n",
       "      <td>0</td>\n",
       "      <td>1</td>\n",
       "      <td>0</td>\n",
       "      <td>0</td>\n",
       "      <td>1</td>\n",
       "      <td>0</td>\n",
       "      <td>0</td>\n",
       "      <td>0</td>\n",
       "      <td>1</td>\n",
       "    </tr>\n",
       "    <tr>\n",
       "      <th>2</th>\n",
       "      <td>31.0</td>\n",
       "      <td>7.03</td>\n",
       "      <td>9.0</td>\n",
       "      <td>0</td>\n",
       "      <td>0</td>\n",
       "      <td>0</td>\n",
       "      <td>0</td>\n",
       "      <td>0</td>\n",
       "      <td>0</td>\n",
       "      <td>0</td>\n",
       "      <td>0</td>\n",
       "      <td>1</td>\n",
       "    </tr>\n",
       "    <tr>\n",
       "      <th>3</th>\n",
       "      <td>28.0</td>\n",
       "      <td>5.59</td>\n",
       "      <td>4.0</td>\n",
       "      <td>0</td>\n",
       "      <td>1</td>\n",
       "      <td>0</td>\n",
       "      <td>1</td>\n",
       "      <td>0</td>\n",
       "      <td>0</td>\n",
       "      <td>0</td>\n",
       "      <td>1</td>\n",
       "      <td>1</td>\n",
       "    </tr>\n",
       "    <tr>\n",
       "      <th>4</th>\n",
       "      <td>25.0</td>\n",
       "      <td>8.13</td>\n",
       "      <td>1.0</td>\n",
       "      <td>0</td>\n",
       "      <td>1</td>\n",
       "      <td>0</td>\n",
       "      <td>1</td>\n",
       "      <td>0</td>\n",
       "      <td>0</td>\n",
       "      <td>0</td>\n",
       "      <td>0</td>\n",
       "      <td>0</td>\n",
       "    </tr>\n",
       "  </tbody>\n",
       "</table>\n",
       "</div>"
      ],
      "text/plain": [
       "    Age  Note_a_l'école  Heures_de_travail  Pression_Académique_5.0  \\\n",
       "0  33.0            8.97                3.0                        1   \n",
       "1  24.0            5.90                3.0                        0   \n",
       "2  31.0            7.03                9.0                        0   \n",
       "3  28.0            5.59                4.0                        0   \n",
       "4  25.0            8.13                1.0                        0   \n",
       "\n",
       "   Habitudes_alimentaires_Moderate  Habitudes_alimentaires_Unhealthy  \\\n",
       "0                                0                                 0   \n",
       "1                                1                                 0   \n",
       "2                                0                                 0   \n",
       "3                                1                                 0   \n",
       "4                                1                                 0   \n",
       "\n",
       "   Sucidaire?_Yes  Stress_financier_2.0  Stress_financier_3.0  \\\n",
       "0               1                     0                     0   \n",
       "1               0                     1                     0   \n",
       "2               0                     0                     0   \n",
       "3               1                     0                     0   \n",
       "4               1                     0                     0   \n",
       "\n",
       "   Stress_financier_4.0  Stress_financier_5.0  Prblml_mentaux_famille_Yes  \n",
       "0                     0                     0                           0  \n",
       "1                     0                     0                           1  \n",
       "2                     0                     0                           1  \n",
       "3                     0                     1                           1  \n",
       "4                     0                     0                           0  "
      ]
     },
     "execution_count": 32,
     "metadata": {},
     "output_type": "execute_result"
    }
   ],
   "source": [
    "X.head()"
   ]
  },
  {
   "cell_type": "code",
   "execution_count": 33,
   "id": "3aec235e",
   "metadata": {},
   "outputs": [
    {
     "name": "stderr",
     "output_type": "stream",
     "text": [
      "C:\\Users\\Nesho\\anaconda3\\lib\\site-packages\\statsmodels\\tsa\\tsatools.py:142: FutureWarning: In a future version of pandas all arguments of concat except for the argument 'objs' will be keyword-only\n",
      "  x = pd.concat(x[::order], 1)\n"
     ]
    }
   ],
   "source": [
    "# Ajouter une constante pour l'interception\n",
    "X = sm.add_constant(X)"
   ]
  },
  {
   "cell_type": "code",
   "execution_count": 34,
   "id": "6102ba64",
   "metadata": {},
   "outputs": [],
   "source": [
    "X_train, X_test, y_train, y_test = train_test_split(X, y, test_size=0.2, random_state=42)\n"
   ]
  },
  {
   "cell_type": "code",
   "execution_count": 35,
   "id": "fef711bf",
   "metadata": {},
   "outputs": [],
   "source": [
    "# Créer le modèle de régression logistique\n",
    "logit_model = sm.Logit(y_train, X_train)"
   ]
  },
  {
   "cell_type": "code",
   "execution_count": 36,
   "id": "d477581a",
   "metadata": {},
   "outputs": [
    {
     "name": "stdout",
     "output_type": "stream",
     "text": [
      "Optimization terminated successfully.\n",
      "         Current function value: 0.397500\n",
      "         Iterations 7\n"
     ]
    }
   ],
   "source": [
    "# Ajuster le modèle aux données d'apprentissage\n",
    "result = logit_model.fit()"
   ]
  },
  {
   "cell_type": "code",
   "execution_count": 37,
   "id": "502aa75e",
   "metadata": {},
   "outputs": [
    {
     "name": "stdout",
     "output_type": "stream",
     "text": [
      "                           Logit Regression Results                           \n",
      "==============================================================================\n",
      "Dep. Variable:             Dépression   No. Observations:                22320\n",
      "Model:                          Logit   Df Residuals:                    22307\n",
      "Method:                           MLE   Df Model:                           12\n",
      "Date:                Mon, 13 Jan 2025   Pseudo R-squ.:                  0.4137\n",
      "Time:                        18:49:52   Log-Likelihood:                -8872.2\n",
      "converged:                       True   LL-Null:                       -15133.\n",
      "Covariance Type:            nonrobust   LLR p-value:                     0.000\n",
      "====================================================================================================\n",
      "                                       coef    std err          z      P>|z|      [0.025      0.975]\n",
      "----------------------------------------------------------------------------------------------------\n",
      "const                               -1.8913      0.157    -12.030      0.000      -2.199      -1.583\n",
      "Age                                 -0.1000      0.004    -25.351      0.000      -0.108      -0.092\n",
      "Note_a_l'école                       0.0521      0.013      4.067      0.000       0.027       0.077\n",
      "Heures_de_travail                    0.1157      0.005     22.564      0.000       0.106       0.126\n",
      "Pression_Académique_5.0              1.9041      0.055     34.469      0.000       1.796       2.012\n",
      "Habitudes_alimentaires_Moderate      0.4483      0.047      9.588      0.000       0.357       0.540\n",
      "Habitudes_alimentaires_Unhealthy     1.0410      0.048     21.705      0.000       0.947       1.135\n",
      "Sucidaire?_Yes                       2.5692      0.040     63.467      0.000       2.490       2.649\n",
      "Stress_financier_2.0                 0.4110      0.060      6.871      0.000       0.294       0.528\n",
      "Stress_financier_3.0                 1.0448      0.060     17.483      0.000       0.928       1.162\n",
      "Stress_financier_4.0                 1.4930      0.060     25.052      0.000       1.376       1.610\n",
      "Stress_financier_5.0                 2.1803      0.062     35.040      0.000       2.058       2.302\n",
      "Prblml_mentaux_famille_Yes           0.2788      0.038      7.369      0.000       0.205       0.353\n",
      "====================================================================================================\n"
     ]
    }
   ],
   "source": [
    "print(result.summary())"
   ]
  },
  {
   "cell_type": "code",
   "execution_count": 38,
   "id": "054fe0a2",
   "metadata": {},
   "outputs": [
    {
     "data": {
      "image/png": "[encoded data removed]",
      "text/plain": [
       "<Figure size 720x576 with 1 Axes>"
      ]
     },
     "metadata": {
      "needs_background": "light"
     },
     "output_type": "display_data"
    }
   ],
   "source": [
    "from sklearn.metrics import roc_curve, auc\n",
    "# Obtenir les prédictions du modèle sur l'ensemble d'entraînement et de test\n",
    "y_train_pred = result.predict(X_train)\n",
    "y_test_pred = result.predict(X_test)\n",
    "\n",
    "# Calculer les courbes ROC et les aires sous la courbe (AUC)\n",
    "fpr_train, tpr_train, thresholds_train = roc_curve(y_train, y_train_pred)\n",
    "roc_auc_train = auc(fpr_train, tpr_train)\n",
    "\n",
    "fpr_test, tpr_test, thresholds_test = roc_curve(y_test, y_test_pred)\n",
    "roc_auc_test = auc(fpr_test, tpr_test)\n",
    "\n",
    "# Tracer les courbes ROC\n",
    "plt.figure(figsize=(10, 8))\n",
    "plt.plot(fpr_train, tpr_train, color='darkorange', lw=2, label='ROC curve (train) (AUC = %0.2f)' % roc_auc_train)\n",
    "plt.plot(fpr_test, tpr_test, color='green', lw=2, label='ROC curve (test) (AUC = %0.2f)' % roc_auc_test)\n",
    "plt.plot([0, 1], [0, 1], color='navy', lw=2, linestyle='--')\n",
    "plt.xlim([0.0, 1.0])\n",
    "plt.ylim([0.0, 1.05])\n",
    "plt.xlabel('Taux de faux positifs')\n",
    "plt.ylabel('Taux de vrais positifs')\n",
    "plt.title('Courbes ROC')\n",
    "plt.legend(loc=\"lower right\")\n",
    "plt.show()"
   ]
  },
  {
   "cell_type": "markdown",
   "id": "fd823e7a",
   "metadata": {},
   "source": [
    "Nous obtenons un AUC de 0,90 pour la base d'entraînement et 0,89 pour la base de test ce qui est un peu moins ce qu'on a trouvé auparavant mais cette fois-ci tous les variables sont significatives. De plus cela reste un score très élevé puisqu'en effet, notre modèle est capable de prédire 9 fois sur 10 le bon résultat. Enfin, il n'y a pas de overfitting et underfitting puisque les courbes ROC sont proches. Nous pouvons donc en conclure que notre modèle est bon. L'équation de la courbe est  : "
   ]
  },
  {
   "cell_type": "markdown",
   "id": "e999f390",
   "metadata": {},
   "source": [
    "**ln(p/(1-p)) = −1.8913 − 0.1000 × Age + 0.0521 × Note_a_l’ecole + 0.1157 × Heures_de_travail + 1.9041 × Pression_Academique_5.0 + 0.4483 × Habitudes_alimentaires_Moderate + 1.0410 × Habitudes_alimentaires_Unhealthy + 2.5692 × Suicidaire_Yes + 0.4110 × Stress_financier_2.0 + 1.0448 × Stress_financier_3.0 + 1.4930 × Stress_financier_4.0 + 2.1803 × Stress_financier_5.0 + 0.2788 × Prblml_mentaux_famille_Yes**"
   ]
  },
  {
   "cell_type": "markdown",
   "id": "dc4b9b1b",
   "metadata": {},
   "source": [
    "Même si on obtient un bon AUC, nous allons essayer un autres modèle, celui de l'arbre de décision pour vérifier si nous obtenons pas un meilleur résultat."
   ]
  },
  {
   "cell_type": "markdown",
   "id": "8edbf151",
   "metadata": {},
   "source": [
    "# Autres modèles "
   ]
  },
  {
   "cell_type": "markdown",
   "id": "18973ab3",
   "metadata": {},
   "source": [
    "## Arbre de décision "
   ]
  },
  {
   "cell_type": "code",
   "execution_count": 39,
   "id": "9359c8ef",
   "metadata": {},
   "outputs": [],
   "source": [
    "from sklearn.tree import DecisionTreeClassifier\n",
    "from sklearn.metrics import classification_report"
   ]
  },
  {
   "cell_type": "code",
   "execution_count": 40,
   "id": "42b5dd8a",
   "metadata": {},
   "outputs": [
    {
     "data": {
      "text/plain": [
       "DecisionTreeClassifier(random_state=42)"
      ]
     },
     "execution_count": 40,
     "metadata": {},
     "output_type": "execute_result"
    }
   ],
   "source": [
    "model_dt = DecisionTreeClassifier(random_state=42)\n",
    "model_dt.fit(X_train, y_train)"
   ]
  },
  {
   "cell_type": "code",
   "execution_count": 41,
   "id": "cea6d41c",
   "metadata": {},
   "outputs": [],
   "source": [
    "y_pred = model_dt.predict(X_test)"
   ]
  },
  {
   "cell_type": "code",
   "execution_count": 42,
   "id": "8aee34e9",
   "metadata": {},
   "outputs": [],
   "source": [
    "report = classification_report(y_pred, y_test)"
   ]
  },
  {
   "cell_type": "code",
   "execution_count": 43,
   "id": "94b26041",
   "metadata": {},
   "outputs": [
    {
     "name": "stdout",
     "output_type": "stream",
     "text": [
      "              precision    recall  f1-score   support\n",
      "\n",
      "           0       0.69      0.68      0.69      2376\n",
      "           1       0.77      0.78      0.77      3205\n",
      "\n",
      "    accuracy                           0.74      5581\n",
      "   macro avg       0.73      0.73      0.73      5581\n",
      "weighted avg       0.74      0.74      0.74      5581\n",
      "\n"
     ]
    }
   ],
   "source": [
    "print(report)"
   ]
  },
  {
   "cell_type": "markdown",
   "id": "0236e0bf",
   "metadata": {},
   "source": [
    "Nous obtenons une précision globale de 0,74 ce qui est plus faible que la précision obtenue avec la régression logistique qui était de 0,89. Nous allons donc optimiser notre modèle en effectuant une validation croisée. "
   ]
  },
  {
   "cell_type": "markdown",
   "id": "a452b952",
   "metadata": {},
   "source": [
    "Ici, le paramètre que nous allons optimiser est la profondeur de l'arbre. "
   ]
  },
  {
   "cell_type": "code",
   "execution_count": 44,
   "id": "779e9f3c",
   "metadata": {},
   "outputs": [],
   "source": [
    "from sklearn.model_selection import GridSearchCV, RandomizedSearchCV"
   ]
  },
  {
   "cell_type": "code",
   "execution_count": 45,
   "id": "1c2619eb",
   "metadata": {},
   "outputs": [],
   "source": [
    "params = {'max_depth' : [3, 5, 10, 15]}"
   ]
  },
  {
   "cell_type": "code",
   "execution_count": 46,
   "id": "682c24b2",
   "metadata": {},
   "outputs": [],
   "source": [
    "grid_search = GridSearchCV(estimator=model_dt, param_grid=params, cv=5)"
   ]
  },
  {
   "cell_type": "code",
   "execution_count": 47,
   "id": "06677e77",
   "metadata": {},
   "outputs": [
    {
     "data": {
      "text/plain": [
       "GridSearchCV(cv=5, estimator=DecisionTreeClassifier(random_state=42),\n",
       "             param_grid={'max_depth': [3, 5, 10, 15]})"
      ]
     },
     "execution_count": 47,
     "metadata": {},
     "output_type": "execute_result"
    }
   ],
   "source": [
    "grid_search.fit(X_train, y_train)"
   ]
  },
  {
   "cell_type": "code",
   "execution_count": 48,
   "id": "b88ae8d8",
   "metadata": {},
   "outputs": [
    {
     "data": {
      "text/plain": [
       "{'max_depth': 5}"
      ]
     },
     "execution_count": 48,
     "metadata": {},
     "output_type": "execute_result"
    }
   ],
   "source": [
    "grid_search.best_params_"
   ]
  },
  {
   "cell_type": "markdown",
   "id": "6fa87747",
   "metadata": {},
   "source": [
    "Nous obtenons le meilleur résultat quand la profondeur de l'arbre est fixé a 5"
   ]
  },
  {
   "cell_type": "code",
   "execution_count": 49,
   "id": "97c2c40f",
   "metadata": {},
   "outputs": [],
   "source": [
    "best_model = grid_search.best_estimator_"
   ]
  },
  {
   "cell_type": "code",
   "execution_count": 50,
   "id": "a94ce35b",
   "metadata": {},
   "outputs": [
    {
     "data": {
      "text/plain": [
       "DecisionTreeClassifier(max_depth=5, random_state=42)"
      ]
     },
     "execution_count": 50,
     "metadata": {},
     "output_type": "execute_result"
    }
   ],
   "source": [
    "best_model"
   ]
  },
  {
   "cell_type": "code",
   "execution_count": 51,
   "id": "1aad9a79",
   "metadata": {},
   "outputs": [],
   "source": [
    "y_pred2 = best_model.predict(X_test)"
   ]
  },
  {
   "cell_type": "code",
   "execution_count": 52,
   "id": "504c0d27",
   "metadata": {},
   "outputs": [],
   "source": [
    "report2 = classification_report(y_pred2, y_test)"
   ]
  },
  {
   "cell_type": "code",
   "execution_count": 53,
   "id": "8b3765c1",
   "metadata": {},
   "outputs": [
    {
     "name": "stdout",
     "output_type": "stream",
     "text": [
      "              precision    recall  f1-score   support\n",
      "\n",
      "           0       0.73      0.78      0.76      2188\n",
      "           1       0.85      0.81      0.83      3393\n",
      "\n",
      "    accuracy                           0.80      5581\n",
      "   macro avg       0.79      0.80      0.79      5581\n",
      "weighted avg       0.80      0.80      0.80      5581\n",
      "\n"
     ]
    }
   ],
   "source": [
    "print(report2)"
   ]
  },
  {
   "cell_type": "markdown",
   "id": "8763d303",
   "metadata": {},
   "source": [
    "Cette fois ci, nous avons une précision globale de 0,80 ce qui est mieux. Il faut maintenant évaluer si le modèle est en underfitting ou overfitting"
   ]
  },
  {
   "cell_type": "code",
   "execution_count": 54,
   "id": "ff177315",
   "metadata": {},
   "outputs": [
    {
     "data": {
      "text/plain": [
       "<matplotlib.legend.Legend at 0x229672ce1f0>"
      ]
     },
     "execution_count": 54,
     "metadata": {},
     "output_type": "execute_result"
    },
    {
     "data": {
      "image/png": "[encoded data removed]",
      "text/plain": [
       "<Figure size 864x576 with 1 Axes>"
      ]
     },
     "metadata": {
      "needs_background": "light"
     },
     "output_type": "display_data"
    }
   ],
   "source": [
    "from sklearn.model_selection import learning_curve\n",
    "\n",
    "N, train_score, val_score = learning_curve(best_model, X_train, y_train,\n",
    "                                              cv=4, scoring='f1')\n",
    "    \n",
    "\n",
    "plt.figure(figsize=(12,8))\n",
    "plt.plot(N, train_score.mean(axis=1), label = \"train score\")\n",
    "plt.plot(N, val_score.mean(axis=1), label = \"validation score\")\n",
    "plt.legend()"
   ]
  },
  {
   "cell_type": "markdown",
   "id": "d3e7a35a",
   "metadata": {},
   "source": [
    "Il n'y a pas d'overfitting ou underfitting puisque les courbes sont proches, mais le modèle est toujours moins bien que la régression logistique.  "
   ]
  },
  {
   "cell_type": "markdown",
   "id": "c59b64a9",
   "metadata": {},
   "source": [
    "# Autres modèles "
   ]
  },
  {
   "cell_type": "markdown",
   "id": "6a6c5a41",
   "metadata": {},
   "source": [
    "Dans cette section nous allons effectuer plusieurs modèles en même temps et choisir le meilleur. Puis nous allons optimiser le \n",
    "meilleur modèle parmi ces nouveaux modèles. Les modèles que nous allons effectués sont : un Random Forest, un Adaboost et un SVM. On ne va pas effectuer de KNN car le jeu de données comporte beaucoup trop d'observations. "
   ]
  },
  {
   "cell_type": "code",
   "execution_count": 55,
   "id": "f071547e",
   "metadata": {},
   "outputs": [],
   "source": [
    "from sklearn.pipeline import make_pipeline"
   ]
  },
  {
   "cell_type": "code",
   "execution_count": 57,
   "id": "28154260",
   "metadata": {},
   "outputs": [],
   "source": [
    "from tqdm import tqdm"
   ]
  },
  {
   "cell_type": "code",
   "execution_count": 58,
   "id": "d86509b0",
   "metadata": {},
   "outputs": [],
   "source": [
    "from sklearn.ensemble import AdaBoostClassifier, RandomForestClassifier\n",
    "from sklearn.svm import SVC\n",
    "from sklearn.preprocessing import StandardScaler"
   ]
  },
  {
   "cell_type": "code",
   "execution_count": 59,
   "id": "71a70f09",
   "metadata": {},
   "outputs": [],
   "source": [
    "RandomForest = RandomForestClassifier(random_state=42)\n",
    "Adaboost = AdaBoostClassifier(random_state=42)\n",
    "SVM = make_pipeline(StandardScaler(), SVC(random_state=42))\n"
   ]
  },
  {
   "cell_type": "code",
   "execution_count": 60,
   "id": "afbb5012",
   "metadata": {},
   "outputs": [],
   "source": [
    "dict_of_models = {\"RandomForest\" : RandomForest,\n",
    "                  \"Adaboost\" : Adaboost,\n",
    "                  \"SVM\" : SVM,\n",
    "                  }\n",
    "\n",
    "#on crée un dictionnaire et pas une liste pour avoir le nom de chaque modèle dans nos classification report \n"
   ]
  },
  {
   "cell_type": "code",
   "execution_count": 79,
   "id": "f54203e6",
   "metadata": {},
   "outputs": [],
   "source": [
    "def evaluation(model):\n",
    "    \n",
    "    model.fit(X_train, y_train)\n",
    "    ypred = model.predict(X_test)\n",
    "    \n",
    "    print(classification_report(y_test, ypred))\n",
    "    \n",
    "    N, train_score, val_score = learning_curve(model, X_train, y_train,\n",
    "                                              cv=4, scoring='accuracy')\n",
    "    \n",
    "    \n",
    "    plt.figure(figsize=(12, 8))\n",
    "    plt.plot(N, train_score.mean(axis=1), label='train score')\n",
    "    plt.plot(N, val_score.mean(axis=1), label='validation score')\n",
    "    plt.legend()"
   ]
  },
  {
   "cell_type": "code",
   "execution_count": 80,
   "id": "5a7dd262",
   "metadata": {},
   "outputs": [
    {
     "name": "stderr",
     "output_type": "stream",
     "text": [
      "\n",
      "  0%|                                                                                            | 0/3 [00:00<?, ?it/s]\u001b[A"
     ]
    },
    {
     "name": "stdout",
     "output_type": "stream",
     "text": [
      "RandomForest\n",
      "              precision    recall  f1-score   support\n",
      "\n",
      "           0       0.76      0.74      0.75      2343\n",
      "           1       0.81      0.83      0.82      3238\n",
      "\n",
      "    accuracy                           0.79      5581\n",
      "   macro avg       0.79      0.79      0.79      5581\n",
      "weighted avg       0.79      0.79      0.79      5581\n",
      "\n"
     ]
    },
    {
     "name": "stderr",
     "output_type": "stream",
     "text": [
      "\n",
      " 33%|████████████████████████████                                                        | 1/3 [00:21<00:43, 21.61s/it]\u001b[A"
     ]
    },
    {
     "name": "stdout",
     "output_type": "stream",
     "text": [
      "Adaboost\n",
      "              precision    recall  f1-score   support\n",
      "\n",
      "           0       0.80      0.74      0.77      2343\n",
      "           1       0.82      0.86      0.84      3238\n",
      "\n",
      "    accuracy                           0.81      5581\n",
      "   macro avg       0.81      0.80      0.81      5581\n",
      "weighted avg       0.81      0.81      0.81      5581\n",
      "\n"
     ]
    },
    {
     "name": "stderr",
     "output_type": "stream",
     "text": [
      "\n",
      " 67%|████████████████████████████████████████████████████████                            | 2/3 [00:27<00:12, 12.61s/it]\u001b[A"
     ]
    },
    {
     "name": "stdout",
     "output_type": "stream",
     "text": [
      "SVM\n",
      "              precision    recall  f1-score   support\n",
      "\n",
      "           0       0.80      0.73      0.76      2343\n",
      "           1       0.82      0.87      0.84      3238\n",
      "\n",
      "    accuracy                           0.81      5581\n",
      "   macro avg       0.81      0.80      0.80      5581\n",
      "weighted avg       0.81      0.81      0.81      5581\n",
      "\n"
     ]
    },
    {
     "name": "stderr",
     "output_type": "stream",
     "text": [
      "\n",
      "100%|████████████████████████████████████████████████████████████████████████████████████| 3/3 [04:19<00:00, 86.61s/it]\u001b[A\n"
     ]
    },
    {
     "data": {
      "image/png": "[encoded data removed]",
      "text/plain": [
       "<Figure size 864x576 with 1 Axes>"
      ]
     },
     "metadata": {
      "needs_background": "light"
     },
     "output_type": "display_data"
    },
    {
     "data": {
      "image/png": "[encoded data removed]",
      "text/plain": [
       "<Figure size 864x576 with 1 Axes>"
      ]
     },
     "metadata": {
      "needs_background": "light"
     },
     "output_type": "display_data"
    },
    {
     "data": {
      "image/png": "[encoded data removed]",
      "text/plain": [
       "<Figure size 864x576 with 1 Axes>"
      ]
     },
     "metadata": {
      "needs_background": "light"
     },
     "output_type": "display_data"
    }
   ],
   "source": [
    "for name, model in tqdm(dict_of_models.items()):\n",
    "    print(name)\n",
    "    evaluation(model)"
   ]
  },
  {
   "cell_type": "markdown",
   "id": "72f0912b",
   "metadata": {},
   "source": [
    "Le Random forest est le pire modèle car il y a overfitting. Cependant, le SVM et l'Adaboost sont les meilleurs modèles. Pour la suite, nous allons garder que le SVM car c'est le modèle où il y a le moins d'overfiiting (même si on aurait pu choisir l'Adaboost)."
   ]
  },
  {
   "cell_type": "markdown",
   "id": "a07d73da",
   "metadata": {},
   "source": [
    "Nous allons maintenant optimiser les paramètres de notre SVM. "
   ]
  },
  {
   "cell_type": "code",
   "execution_count": 64,
   "id": "2a463e89",
   "metadata": {},
   "outputs": [
    {
     "data": {
      "text/plain": [
       "{'memory': None,\n",
       " 'steps': [('standardscaler', StandardScaler()),\n",
       "  ('svc', SVC(random_state=42))],\n",
       " 'verbose': False,\n",
       " 'standardscaler': StandardScaler(),\n",
       " 'svc': SVC(random_state=42),\n",
       " 'standardscaler__copy': True,\n",
       " 'standardscaler__with_mean': True,\n",
       " 'standardscaler__with_std': True,\n",
       " 'svc__C': 1.0,\n",
       " 'svc__break_ties': False,\n",
       " 'svc__cache_size': 200,\n",
       " 'svc__class_weight': None,\n",
       " 'svc__coef0': 0.0,\n",
       " 'svc__decision_function_shape': 'ovr',\n",
       " 'svc__degree': 3,\n",
       " 'svc__gamma': 'scale',\n",
       " 'svc__kernel': 'rbf',\n",
       " 'svc__max_iter': -1,\n",
       " 'svc__probability': False,\n",
       " 'svc__random_state': 42,\n",
       " 'svc__shrinking': True,\n",
       " 'svc__tol': 0.001,\n",
       " 'svc__verbose': False}"
      ]
     },
     "execution_count": 64,
     "metadata": {},
     "output_type": "execute_result"
    }
   ],
   "source": [
    "SVM.get_params()"
   ]
  },
  {
   "cell_type": "markdown",
   "id": "34b407f6",
   "metadata": {},
   "source": [
    "Les paramètres que nous allons optimiser sont C et gamma. Le paramètre C répresente la tolérance ou non aux erreurs alors que le paramètre gamma contrôle l'étendu de l'influence d'un seul point d'entraînement."
   ]
  },
  {
   "cell_type": "code",
   "execution_count": 68,
   "id": "3421402e",
   "metadata": {},
   "outputs": [],
   "source": [
    "params_SVM = {\"svc__gamma\" : [0.0001, 0.001, 0.005],\n",
    "              \"svc__C\" : [1, 10, 100, 1000],\n",
    "              }"
   ]
  },
  {
   "cell_type": "code",
   "execution_count": 81,
   "id": "9cf6930d",
   "metadata": {},
   "outputs": [],
   "source": [
    "grid_SVM = GridSearchCV(estimator=SVM, param_grid=params_SVM, cv=4)"
   ]
  },
  {
   "cell_type": "code",
   "execution_count": 82,
   "id": "2f0ee060",
   "metadata": {},
   "outputs": [
    {
     "name": "stderr",
     "output_type": "stream",
     "text": [
      "\n",
      "0it [00:00, ?it/s]\u001b[A"
     ]
    },
    {
     "data": {
      "text/plain": [
       "<tqdm.std.tqdm at 0x2297cee84f0>"
      ]
     },
     "execution_count": 82,
     "metadata": {},
     "output_type": "execute_result"
    }
   ],
   "source": [
    "tqdm(grid_SVM.fit(X_train, y_train))"
   ]
  },
  {
   "cell_type": "code",
   "execution_count": 83,
   "id": "70bcc78b",
   "metadata": {},
   "outputs": [
    {
     "data": {
      "text/plain": [
       "{'svc__C': 100, 'svc__gamma': 0.0001}"
      ]
     },
     "execution_count": 83,
     "metadata": {},
     "output_type": "execute_result"
    }
   ],
   "source": [
    "grid_SVM.best_params_"
   ]
  },
  {
   "cell_type": "code",
   "execution_count": 84,
   "id": "aaa11768",
   "metadata": {},
   "outputs": [],
   "source": [
    "best_model_SVM = grid_SVM.best_estimator_"
   ]
  },
  {
   "cell_type": "code",
   "execution_count": 85,
   "id": "0b3dbfb6",
   "metadata": {},
   "outputs": [],
   "source": [
    "y_pred_SVM = best_model_SVM.predict(X_test)"
   ]
  },
  {
   "cell_type": "code",
   "execution_count": 86,
   "id": "451a66a5",
   "metadata": {},
   "outputs": [
    {
     "name": "stdout",
     "output_type": "stream",
     "text": [
      "              precision    recall  f1-score   support\n",
      "\n",
      "           0       0.80      0.71      0.76      2343\n",
      "           1       0.81      0.87      0.84      3238\n",
      "\n",
      "    accuracy                           0.81      5581\n",
      "   macro avg       0.81      0.79      0.80      5581\n",
      "weighted avg       0.81      0.81      0.80      5581\n",
      "\n"
     ]
    }
   ],
   "source": [
    "report_SVM = classification_report(y_test, y_pred_SVM)\n",
    "print(report_SVM)"
   ]
  },
  {
   "cell_type": "code",
   "execution_count": 87,
   "id": "2db8da54",
   "metadata": {},
   "outputs": [
    {
     "data": {
      "text/plain": [
       "<matplotlib.legend.Legend at 0x2297cf3a790>"
      ]
     },
     "execution_count": 87,
     "metadata": {},
     "output_type": "execute_result"
    },
    {
     "data": {
      "image/png": "[encoded data removed]",
      "text/plain": [
       "<Figure size 864x576 with 1 Axes>"
      ]
     },
     "metadata": {
      "needs_background": "light"
     },
     "output_type": "display_data"
    }
   ],
   "source": [
    "N_SVM, train_score_SVM, val_score_SVM = learning_curve(best_model_SVM, X_train, y_train,\n",
    "                                              cv=4, scoring='accuracy')\n",
    "    \n",
    "    \n",
    "plt.figure(figsize=(12, 8))\n",
    "plt.plot(N_SVM, train_score_SVM.mean(axis=1), label='train score')\n",
    "plt.plot(N_SVM, val_score_SVM.mean(axis=1), label='validation score')\n",
    "plt.legend()"
   ]
  },
  {
   "cell_type": "code",
   "execution_count": 90,
   "id": "112ea678",
   "metadata": {},
   "outputs": [
    {
     "data": {
      "text/plain": [
       "{'memory': None,\n",
       " 'steps': [('standardscaler', StandardScaler()),\n",
       "  ('svc', SVC(C=100, gamma=0.0001, random_state=42))],\n",
       " 'verbose': False,\n",
       " 'standardscaler': StandardScaler(),\n",
       " 'svc': SVC(C=100, gamma=0.0001, random_state=42),\n",
       " 'standardscaler__copy': True,\n",
       " 'standardscaler__with_mean': True,\n",
       " 'standardscaler__with_std': True,\n",
       " 'svc__C': 100,\n",
       " 'svc__break_ties': False,\n",
       " 'svc__cache_size': 200,\n",
       " 'svc__class_weight': None,\n",
       " 'svc__coef0': 0.0,\n",
       " 'svc__decision_function_shape': 'ovr',\n",
       " 'svc__degree': 3,\n",
       " 'svc__gamma': 0.0001,\n",
       " 'svc__kernel': 'rbf',\n",
       " 'svc__max_iter': -1,\n",
       " 'svc__probability': False,\n",
       " 'svc__random_state': 42,\n",
       " 'svc__shrinking': True,\n",
       " 'svc__tol': 0.001,\n",
       " 'svc__verbose': False}"
      ]
     },
     "execution_count": 90,
     "metadata": {},
     "output_type": "execute_result"
    }
   ],
   "source": [
    "best_model_SVM.get_params()"
   ]
  },
  {
   "cell_type": "markdown",
   "id": "273ea776",
   "metadata": {},
   "source": [
    "Au final, même avec l'optimisation SVM, nous obtenons le même score accuracy (environ 0,84). Ainsi, nous allons rester sur le modèle le plus simple c'est à dire sans l'optimisation. "
   ]
  },
  {
   "cell_type": "markdown",
   "id": "693c91cb",
   "metadata": {},
   "source": [
    "# Conclusion "
   ]
  },
  {
   "cell_type": "markdown",
   "id": "aa607f19",
   "metadata": {},
   "source": [
    "Cependant, le plus performant parmi tous nos modèles reste la régression logistique avec une précision globale de 0,89 autrement dit le modèle prédit de manière juste (environ 9 fois sur 10) si l'étudiant en question est en dépression ou non. Nous choisissons donc ce modèle !"
   ]
  },
  {
   "cell_type": "code",
   "execution_count": null,
   "id": "29fe7635",
   "metadata": {},
   "outputs": [],
   "source": []
  }
 ],
 "metadata": {
  "kernelspec": {
   "display_name": "Python 3 (ipykernel)",
   "language": "python",
   "name": "python3"
  },
  "language_info": {
   "codemirror_mode": {
    "name": "ipython",
    "version": 3
   },
   "file_extension": ".py",
   "mimetype": "text/x-python",
   "name": "python",
   "nbconvert_exporter": "python",
   "pygments_lexer": "ipython3",
   "version": "3.9.7"
  }
 },
 "nbformat": 4,
 "nbformat_minor": 5
}
